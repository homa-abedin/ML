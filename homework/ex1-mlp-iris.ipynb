{
  "cells": [
    {
      "cell_type": "markdown",
      "metadata": {
        "id": "khYVDhC1oHLX"
      },
      "source": [
        "<center><div style=\"direction:rtl;font-family:B Lotus, B Nazanin, Tahoma\">به نام خدا</div></center>\n",
        "\n",
        "<h1><center><div style=\"direction:rtl;font-family:B Lotus, B Nazanin, Tahoma\">تمرین عملی 1: طبقه بندی با شبکه های تمام متصل روی مجموعه داده IRIS</div></center></h1>"
      ]
    },
    {
      "cell_type": "markdown",
      "metadata": {
        "id": "uKTv3CfjoHLa"
      },
      "source": [
        "## <div style=\"direction:rtl;text-align:right;font-family:B Lotus, B Nazanin, Tahoma\">صورت مساله</div>\n",
        "\n",
        "\n",
        "<div style=\"direction:rtl;text-align:right;font-family:Tahoma\">\n",
        "در اولین جلسه کارگاه طبقه بندی با شبکه های تمام متصل را دیدیم.\n",
        "<br>\n",
        "توصیه می‌شود حتما نوت بوک‌های زیر را قبل از این تمرین مرور کنید:\n",
        "</div>\n",
        "\n",
        "[04_a Gentle Introduction to Keras - Simple neural network(mlp).ipynb](https://nbviewer.jupyter.org/github/alireza-akhavan/SRU-deeplearning-workshop/blob/master/04_a%20Gentle%20Introduction%20to%20Keras%20-%20Simple%20neural%20network%28mlp%29.ipynb)\n",
        "\n",
        "[05_Dropout.ipynb](https://nbviewer.jupyter.org/github/alireza-akhavan/SRU-deeplearning-workshop/blob/master/05_Dropout.ipynb)\n",
        "\n",
        "<div style=\"direction:rtl;text-align:right;font-family:Tahoma\">\n",
        "در این جلسه با داده های تصویری آشنا شدیم. اما در این تمرین برای اینکه بدانیم کاربرد این مباحث در مسائل غیر تصویری نیز هست  از مجموعه داده ی ساختار یافتهiris  شامل 4 ویژگی برای طول و عرض کاسبرگ و گلبرگ استفاده خواهیم کرد که بتوانیم بر اساس این ویژگی ها نوع گل را از 3 کلاس متفاوت تشخیص دهیم.\n",
        "</div>"
      ]
    },
    {
      "cell_type": "markdown",
      "metadata": {
        "id": "UB-s0RQloHLa"
      },
      "source": [
        "## <div style=\"direction:rtl;text-align:right;font-family:B Lotus, B Nazanin, Tahoma\">لود کتابخانه های مورد نیاز </div>\n",
        "<div style=\"direction:rtl;text-align:right;font-family:Tahoma\">\n",
        "کتابخانه های مورد نیاز این تمرین لود شده اند\n",
        "<br>\n",
        "در صورت نیاز میتوانید کتابخانه های بیشتری لود کنید:\n",
        "</div>"
      ]
    },
    {
      "cell_type": "code",
      "execution_count": 1,
      "metadata": {
        "id": "sVy8JdljoHLa"
      },
      "outputs": [],
      "source": [
        "import numpy as np\n",
        "from tensorflow import keras\n",
        "from sklearn.datasets import load_iris\n",
        "from sklearn.model_selection import train_test_split\n",
        "from keras.models import Sequential\n",
        "from keras.layers import Dense, Dropout\n",
        "from tensorflow.keras.optimizers import Adam"
      ]
    },
    {
      "cell_type": "code",
      "source": [],
      "metadata": {
        "id": "KRx1H_pocl6L"
      },
      "execution_count": null,
      "outputs": []
    },
    {
      "cell_type": "markdown",
      "metadata": {
        "id": "pJWKmE6qoHLb"
      },
      "source": [
        "<div style=\"direction:rtl;text-align:right;font-family:Tahoma\">\n",
        "در این تمرین میخواهیم از مجموعه داده iris استفاده کنیم.\n",
        "<br>\n",
        "توضیحات این مجموعه داده در سایت آن موجود است:\n",
        "</div>\n",
        "\n",
        "https://archive.ics.uci.edu/ml/datasets/iris\n",
        "\n",
        "\n",
        "<div style=\"direction:rtl;text-align:right;font-family:Tahoma\">\n",
        "ویژگی ها و کلاس های این مجموعه داده به شرح زیر است:\n",
        "</div>\n",
        "\n",
        "Attribute Information:\n",
        "\n",
        "1. sepal length in cm\n",
        "2. sepal width in cm\n",
        "3. petal length in cm\n",
        "4. petal width in cm\n",
        "\n",
        "class:\n",
        "\n",
        "    Iris Setosa\n",
        "    Iris Versicolour\n",
        "    Iris Virginica\n",
        "\n",
        "<div style=\"direction:rtl;text-align:right;font-family:Tahoma\">\n",
        "این دیتاست در کتابخانه sklearn موجود است\n",
        "<br>\n",
        "در قطعه کد زیر ویژگی ها را در x و برچسب یا labelهای متناظر را در y لود شده است.\n",
        "</div>"
      ]
    },
    {
      "cell_type": "code",
      "execution_count": 2,
      "metadata": {
        "id": "kIhUUiUQoHLb"
      },
      "outputs": [],
      "source": [
        "iris_data = load_iris() # load the iris dataset\n",
        "x = iris_data.data\n",
        "y = iris_data.target.reshape(-1, 1) # Convert data to a single column"
      ]
    },
    {
      "cell_type": "markdown",
      "metadata": {
        "id": "woqIFB2eoHLb"
      },
      "source": [
        "# <div style=\"direction:rtl;text-align:right;font-family:B Lotus, B Nazanin, Tahoma\">سوال 1:</div>\n",
        "<div style=\"direction:rtl;text-align:right;font-family:Tahoma\">\n",
        "برچسب یا label های ما در حال حاضر عددی است.\n",
        "<br>\n",
        "این اعداد 0 تا 2 هستند و به عبارتی 3 حالت مختلف دارند.\n",
        "<br>\n",
        "این برچسب ها را به فرمت one-hot تبدیل کنید و خروجی را مجدد در y بریزید.\n",
        "\n",
        "<br>\n",
        "<b>راهنمایی: </b>\n",
        "از تابع keras.utils.to_categorical استفاده کنید.\n",
        "</div>"
      ]
    },
    {
      "cell_type": "code",
      "execution_count": 3,
      "metadata": {
        "id": "OP-BWyLQoHLb"
      },
      "outputs": [],
      "source": [
        "y=keras.utils.to_categorical(y, num_classes=3)\n"
      ]
    },
    {
      "cell_type": "code",
      "source": [
        "y.shape"
      ],
      "metadata": {
        "id": "AbDfMWZ-r__E",
        "outputId": "69bf5af1-6279-43f7-9892-5a095eb61399",
        "colab": {
          "base_uri": "https://localhost:8080/"
        }
      },
      "execution_count": null,
      "outputs": [
        {
          "output_type": "execute_result",
          "data": {
            "text/plain": [
              "(150, 3)"
            ]
          },
          "metadata": {},
          "execution_count": 16
        }
      ]
    },
    {
      "cell_type": "code",
      "source": [
        "y[:2]"
      ],
      "metadata": {
        "id": "H9iafQIFr2UR",
        "outputId": "2a449bf5-3017-430b-ac2b-1d33d9306b8e",
        "colab": {
          "base_uri": "https://localhost:8080/"
        }
      },
      "execution_count": null,
      "outputs": [
        {
          "output_type": "execute_result",
          "data": {
            "text/plain": [
              "array([[1., 0., 0.],\n",
              "       [1., 0., 0.]], dtype=float32)"
            ]
          },
          "metadata": {},
          "execution_count": 14
        }
      ]
    },
    {
      "cell_type": "markdown",
      "metadata": {
        "id": "VQqx0PM_oHLc"
      },
      "source": [
        "<div style=\"direction:rtl;text-align:right;font-family:Tahoma\">\n",
        "در زیر داده ها  به داده های test و train تقسیم شده است:\n",
        "</div>"
      ]
    },
    {
      "cell_type": "code",
      "execution_count": 4,
      "metadata": {
        "id": "rqfvGVzboHLc"
      },
      "outputs": [],
      "source": [
        "# Split the data for training and testing\n",
        "train_x, test_x, train_y, test_y = train_test_split(x, y, test_size=0.20)"
      ]
    },
    {
      "cell_type": "markdown",
      "metadata": {
        "id": "F1_wlfwkoHLc"
      },
      "source": [
        "# <div style=\"direction:rtl;text-align:right;font-family:B Lotus, B Nazanin, Tahoma\">سوال 2:</div>\n",
        "<div style=\"direction:rtl;text-align:right;font-family:Tahoma\">\n",
        "یک شبکه با دو hidden-layer در هر لایه 10 نوران و تابع فعالیت relu بسازید. یک لایه Dropout با نرخ 0.5 در لایه آخر ماقبل softmax نیز اضافه کنید.\n",
        "</div>"
      ]
    },
    {
      "cell_type": "code",
      "execution_count": 5,
      "metadata": {
        "id": "SVCa-rj5oHLc"
      },
      "outputs": [],
      "source": [
        "# Build the model\n",
        "model = Sequential()\n",
        "model.add(Dense(10, activation='relu', input_dim=train_x.shape[-1]))\n",
        "model.add(Dense(10, activation='relu'))\n",
        "model.add(Dropout(0.5))\n",
        "model.add(Dense(train_y.shape[-1], activation='softmax'))"
      ]
    },
    {
      "cell_type": "code",
      "execution_count": null,
      "metadata": {
        "id": "xiadwozEoHLc",
        "outputId": "35a01334-7c91-4368-de50-4f8983442506",
        "colab": {
          "base_uri": "https://localhost:8080/"
        }
      },
      "outputs": [
        {
          "output_type": "stream",
          "name": "stdout",
          "text": [
            "Model: \"sequential_2\"\n",
            "_________________________________________________________________\n",
            " Layer (type)                Output Shape              Param #   \n",
            "=================================================================\n",
            " dense_5 (Dense)             (None, 10)                50        \n",
            "                                                                 \n",
            " dense_6 (Dense)             (None, 10)                110       \n",
            "                                                                 \n",
            " dropout_2 (Dropout)         (None, 10)                0         \n",
            "                                                                 \n",
            " dense_7 (Dense)             (None, 3)                 33        \n",
            "                                                                 \n",
            "=================================================================\n",
            "Total params: 193 (772.00 Byte)\n",
            "Trainable params: 193 (772.00 Byte)\n",
            "Non-trainable params: 0 (0.00 Byte)\n",
            "_________________________________________________________________\n"
          ]
        }
      ],
      "source": [
        "model.summary()"
      ]
    },
    {
      "cell_type": "markdown",
      "metadata": {
        "id": "UnQP2YXzoHLc"
      },
      "source": [
        "<div style=\"direction:rtl;text-align:right;font-family:Tahoma\">در زیر مدل کامپایل شده است.</div>"
      ]
    },
    {
      "cell_type": "code",
      "execution_count": 9,
      "metadata": {
        "id": "54ZLXNiLoHLc"
      },
      "outputs": [],
      "source": [
        "# Adam optimizer with learning rate of 0.001\n",
        "optimizer = keras.optimizers.Adam(learning_rate=0.0001)\n",
        "model.compile( loss='categorical_crossentropy',optimizer=optimizer, metrics=['accuracy'])"
      ]
    },
    {
      "cell_type": "markdown",
      "metadata": {
        "id": "wNv-rBLvoHLc"
      },
      "source": [
        "# <div style=\"direction:rtl;text-align:right;font-family:B Lotus, B Nazanin, Tahoma\">سوال 3:</div>\n",
        "<div style=\"direction:rtl;text-align:right;font-family:Tahoma\">\n",
        "مدل را با  batch_size=5 و تعداد 200 ایپاک آموزش دهید.\n",
        "<br>\n",
        "<b>راهنمایی: </b>\n",
        "از تابع model.fit استفاده کنید.\n",
        "</div>"
      ]
    },
    {
      "cell_type": "code",
      "execution_count": 10,
      "metadata": {
        "id": "LANCZx8toHLd",
        "outputId": "751dc26a-0083-4613-d5b2-b48c75a28b46",
        "colab": {
          "base_uri": "https://localhost:8080/"
        }
      },
      "outputs": [
        {
          "output_type": "stream",
          "name": "stdout",
          "text": [
            "Epoch 1/200\n",
            "2/2 [==============================] - 1s 171ms/step - loss: 0.5432 - accuracy: 0.6750 - val_loss: 0.1176 - val_accuracy: 1.0000\n",
            "Epoch 2/200\n",
            "2/2 [==============================] - 0s 27ms/step - loss: 0.5272 - accuracy: 0.7333 - val_loss: 0.1178 - val_accuracy: 1.0000\n",
            "Epoch 3/200\n",
            "2/2 [==============================] - 0s 49ms/step - loss: 0.4420 - accuracy: 0.7583 - val_loss: 0.1183 - val_accuracy: 1.0000\n",
            "Epoch 4/200\n",
            "2/2 [==============================] - 0s 28ms/step - loss: 0.4775 - accuracy: 0.7417 - val_loss: 0.1185 - val_accuracy: 1.0000\n",
            "Epoch 5/200\n",
            "2/2 [==============================] - 0s 28ms/step - loss: 0.4910 - accuracy: 0.7417 - val_loss: 0.1185 - val_accuracy: 1.0000\n",
            "Epoch 6/200\n",
            "2/2 [==============================] - 0s 29ms/step - loss: 0.4740 - accuracy: 0.7500 - val_loss: 0.1183 - val_accuracy: 1.0000\n",
            "Epoch 7/200\n",
            "2/2 [==============================] - 0s 28ms/step - loss: 0.4456 - accuracy: 0.7500 - val_loss: 0.1182 - val_accuracy: 1.0000\n",
            "Epoch 8/200\n",
            "2/2 [==============================] - 0s 31ms/step - loss: 0.4615 - accuracy: 0.7333 - val_loss: 0.1181 - val_accuracy: 1.0000\n",
            "Epoch 9/200\n",
            "2/2 [==============================] - 0s 27ms/step - loss: 0.4524 - accuracy: 0.7417 - val_loss: 0.1180 - val_accuracy: 1.0000\n",
            "Epoch 10/200\n",
            "2/2 [==============================] - 0s 46ms/step - loss: 0.4314 - accuracy: 0.7667 - val_loss: 0.1177 - val_accuracy: 1.0000\n",
            "Epoch 11/200\n",
            "2/2 [==============================] - 0s 41ms/step - loss: 0.5071 - accuracy: 0.7083 - val_loss: 0.1174 - val_accuracy: 1.0000\n",
            "Epoch 12/200\n",
            "2/2 [==============================] - 0s 40ms/step - loss: 0.4904 - accuracy: 0.7083 - val_loss: 0.1171 - val_accuracy: 1.0000\n",
            "Epoch 13/200\n",
            "2/2 [==============================] - 0s 53ms/step - loss: 0.5075 - accuracy: 0.7250 - val_loss: 0.1170 - val_accuracy: 1.0000\n",
            "Epoch 14/200\n",
            "2/2 [==============================] - 0s 54ms/step - loss: 0.4146 - accuracy: 0.7917 - val_loss: 0.1167 - val_accuracy: 1.0000\n",
            "Epoch 15/200\n",
            "2/2 [==============================] - 0s 38ms/step - loss: 0.5149 - accuracy: 0.7167 - val_loss: 0.1166 - val_accuracy: 1.0000\n",
            "Epoch 16/200\n",
            "2/2 [==============================] - 0s 53ms/step - loss: 0.4359 - accuracy: 0.7750 - val_loss: 0.1163 - val_accuracy: 1.0000\n",
            "Epoch 17/200\n",
            "2/2 [==============================] - 0s 56ms/step - loss: 0.4309 - accuracy: 0.7333 - val_loss: 0.1159 - val_accuracy: 1.0000\n",
            "Epoch 18/200\n",
            "2/2 [==============================] - 0s 38ms/step - loss: 0.5200 - accuracy: 0.6917 - val_loss: 0.1157 - val_accuracy: 1.0000\n",
            "Epoch 19/200\n",
            "2/2 [==============================] - 0s 37ms/step - loss: 0.4445 - accuracy: 0.7500 - val_loss: 0.1157 - val_accuracy: 1.0000\n",
            "Epoch 20/200\n",
            "2/2 [==============================] - 0s 52ms/step - loss: 0.3900 - accuracy: 0.8083 - val_loss: 0.1156 - val_accuracy: 1.0000\n",
            "Epoch 21/200\n",
            "2/2 [==============================] - 0s 41ms/step - loss: 0.5511 - accuracy: 0.6250 - val_loss: 0.1154 - val_accuracy: 1.0000\n",
            "Epoch 22/200\n",
            "2/2 [==============================] - 0s 53ms/step - loss: 0.3842 - accuracy: 0.7917 - val_loss: 0.1152 - val_accuracy: 1.0000\n",
            "Epoch 23/200\n",
            "2/2 [==============================] - 0s 63ms/step - loss: 0.4642 - accuracy: 0.7333 - val_loss: 0.1153 - val_accuracy: 1.0000\n",
            "Epoch 24/200\n",
            "2/2 [==============================] - 0s 52ms/step - loss: 0.4960 - accuracy: 0.7333 - val_loss: 0.1154 - val_accuracy: 1.0000\n",
            "Epoch 25/200\n",
            "2/2 [==============================] - 0s 41ms/step - loss: 0.4481 - accuracy: 0.7500 - val_loss: 0.1155 - val_accuracy: 1.0000\n",
            "Epoch 26/200\n",
            "2/2 [==============================] - 0s 55ms/step - loss: 0.4633 - accuracy: 0.7333 - val_loss: 0.1155 - val_accuracy: 1.0000\n",
            "Epoch 27/200\n",
            "2/2 [==============================] - 0s 74ms/step - loss: 0.4431 - accuracy: 0.7750 - val_loss: 0.1156 - val_accuracy: 1.0000\n",
            "Epoch 28/200\n",
            "2/2 [==============================] - 0s 36ms/step - loss: 0.4449 - accuracy: 0.7833 - val_loss: 0.1156 - val_accuracy: 1.0000\n",
            "Epoch 29/200\n",
            "2/2 [==============================] - 0s 37ms/step - loss: 0.5528 - accuracy: 0.7000 - val_loss: 0.1157 - val_accuracy: 1.0000\n",
            "Epoch 30/200\n",
            "2/2 [==============================] - 0s 37ms/step - loss: 0.5543 - accuracy: 0.6500 - val_loss: 0.1157 - val_accuracy: 1.0000\n",
            "Epoch 31/200\n",
            "2/2 [==============================] - 0s 54ms/step - loss: 0.4524 - accuracy: 0.7417 - val_loss: 0.1156 - val_accuracy: 1.0000\n",
            "Epoch 32/200\n",
            "2/2 [==============================] - 0s 37ms/step - loss: 0.4868 - accuracy: 0.7000 - val_loss: 0.1156 - val_accuracy: 1.0000\n",
            "Epoch 33/200\n",
            "2/2 [==============================] - 0s 37ms/step - loss: 0.4606 - accuracy: 0.7500 - val_loss: 0.1156 - val_accuracy: 1.0000\n",
            "Epoch 34/200\n",
            "2/2 [==============================] - 0s 52ms/step - loss: 0.4548 - accuracy: 0.7583 - val_loss: 0.1155 - val_accuracy: 1.0000\n",
            "Epoch 35/200\n",
            "2/2 [==============================] - 0s 60ms/step - loss: 0.4624 - accuracy: 0.7250 - val_loss: 0.1155 - val_accuracy: 1.0000\n",
            "Epoch 36/200\n",
            "2/2 [==============================] - 0s 39ms/step - loss: 0.6127 - accuracy: 0.6417 - val_loss: 0.1157 - val_accuracy: 1.0000\n",
            "Epoch 37/200\n",
            "2/2 [==============================] - 0s 37ms/step - loss: 0.4732 - accuracy: 0.7333 - val_loss: 0.1157 - val_accuracy: 1.0000\n",
            "Epoch 38/200\n",
            "2/2 [==============================] - 0s 36ms/step - loss: 0.4256 - accuracy: 0.7750 - val_loss: 0.1156 - val_accuracy: 1.0000\n",
            "Epoch 39/200\n",
            "2/2 [==============================] - 0s 56ms/step - loss: 0.5258 - accuracy: 0.6917 - val_loss: 0.1155 - val_accuracy: 1.0000\n",
            "Epoch 40/200\n",
            "2/2 [==============================] - 0s 36ms/step - loss: 0.5168 - accuracy: 0.7167 - val_loss: 0.1153 - val_accuracy: 1.0000\n",
            "Epoch 41/200\n",
            "2/2 [==============================] - 0s 48ms/step - loss: 0.4893 - accuracy: 0.7000 - val_loss: 0.1153 - val_accuracy: 1.0000\n",
            "Epoch 42/200\n",
            "2/2 [==============================] - 0s 54ms/step - loss: 0.4187 - accuracy: 0.7750 - val_loss: 0.1153 - val_accuracy: 1.0000\n",
            "Epoch 43/200\n",
            "2/2 [==============================] - 0s 45ms/step - loss: 0.5175 - accuracy: 0.7417 - val_loss: 0.1154 - val_accuracy: 1.0000\n",
            "Epoch 44/200\n",
            "2/2 [==============================] - 0s 58ms/step - loss: 0.5089 - accuracy: 0.6583 - val_loss: 0.1155 - val_accuracy: 1.0000\n",
            "Epoch 45/200\n",
            "2/2 [==============================] - 0s 54ms/step - loss: 0.4983 - accuracy: 0.7417 - val_loss: 0.1155 - val_accuracy: 1.0000\n",
            "Epoch 46/200\n",
            "2/2 [==============================] - 0s 57ms/step - loss: 0.5204 - accuracy: 0.6750 - val_loss: 0.1154 - val_accuracy: 1.0000\n",
            "Epoch 47/200\n",
            "2/2 [==============================] - 0s 56ms/step - loss: 0.5370 - accuracy: 0.6583 - val_loss: 0.1155 - val_accuracy: 1.0000\n",
            "Epoch 48/200\n",
            "2/2 [==============================] - 0s 38ms/step - loss: 0.3992 - accuracy: 0.7833 - val_loss: 0.1155 - val_accuracy: 1.0000\n",
            "Epoch 49/200\n",
            "2/2 [==============================] - 0s 54ms/step - loss: 0.4376 - accuracy: 0.7417 - val_loss: 0.1155 - val_accuracy: 1.0000\n",
            "Epoch 50/200\n",
            "2/2 [==============================] - 0s 37ms/step - loss: 0.4866 - accuracy: 0.7500 - val_loss: 0.1153 - val_accuracy: 1.0000\n",
            "Epoch 51/200\n",
            "2/2 [==============================] - 0s 36ms/step - loss: 0.4818 - accuracy: 0.7333 - val_loss: 0.1153 - val_accuracy: 1.0000\n",
            "Epoch 52/200\n",
            "2/2 [==============================] - 0s 54ms/step - loss: 0.4570 - accuracy: 0.7583 - val_loss: 0.1153 - val_accuracy: 1.0000\n",
            "Epoch 53/200\n",
            "2/2 [==============================] - 0s 38ms/step - loss: 0.4232 - accuracy: 0.8000 - val_loss: 0.1153 - val_accuracy: 1.0000\n",
            "Epoch 54/200\n",
            "2/2 [==============================] - 0s 38ms/step - loss: 0.5297 - accuracy: 0.6250 - val_loss: 0.1155 - val_accuracy: 1.0000\n",
            "Epoch 55/200\n",
            "2/2 [==============================] - 0s 40ms/step - loss: 0.4377 - accuracy: 0.7833 - val_loss: 0.1154 - val_accuracy: 1.0000\n",
            "Epoch 56/200\n",
            "2/2 [==============================] - 0s 38ms/step - loss: 0.3325 - accuracy: 0.8500 - val_loss: 0.1152 - val_accuracy: 1.0000\n",
            "Epoch 57/200\n",
            "2/2 [==============================] - 0s 37ms/step - loss: 0.4308 - accuracy: 0.7500 - val_loss: 0.1149 - val_accuracy: 1.0000\n",
            "Epoch 58/200\n",
            "2/2 [==============================] - 0s 61ms/step - loss: 0.5121 - accuracy: 0.7000 - val_loss: 0.1147 - val_accuracy: 1.0000\n",
            "Epoch 59/200\n",
            "2/2 [==============================] - 0s 56ms/step - loss: 0.4394 - accuracy: 0.7750 - val_loss: 0.1147 - val_accuracy: 1.0000\n",
            "Epoch 60/200\n",
            "2/2 [==============================] - 0s 29ms/step - loss: 0.6135 - accuracy: 0.6083 - val_loss: 0.1147 - val_accuracy: 1.0000\n",
            "Epoch 61/200\n",
            "2/2 [==============================] - 0s 29ms/step - loss: 0.4361 - accuracy: 0.7667 - val_loss: 0.1147 - val_accuracy: 1.0000\n",
            "Epoch 62/200\n",
            "2/2 [==============================] - 0s 28ms/step - loss: 0.4470 - accuracy: 0.7417 - val_loss: 0.1146 - val_accuracy: 1.0000\n",
            "Epoch 63/200\n",
            "2/2 [==============================] - 0s 28ms/step - loss: 0.4593 - accuracy: 0.7667 - val_loss: 0.1145 - val_accuracy: 1.0000\n",
            "Epoch 64/200\n",
            "2/2 [==============================] - 0s 27ms/step - loss: 0.4164 - accuracy: 0.7750 - val_loss: 0.1144 - val_accuracy: 1.0000\n",
            "Epoch 65/200\n",
            "2/2 [==============================] - 0s 29ms/step - loss: 0.4301 - accuracy: 0.7833 - val_loss: 0.1142 - val_accuracy: 1.0000\n",
            "Epoch 66/200\n",
            "2/2 [==============================] - 0s 27ms/step - loss: 0.3636 - accuracy: 0.7917 - val_loss: 0.1140 - val_accuracy: 1.0000\n",
            "Epoch 67/200\n",
            "2/2 [==============================] - 0s 31ms/step - loss: 0.4963 - accuracy: 0.7417 - val_loss: 0.1138 - val_accuracy: 1.0000\n",
            "Epoch 68/200\n",
            "2/2 [==============================] - 0s 28ms/step - loss: 0.4421 - accuracy: 0.7333 - val_loss: 0.1136 - val_accuracy: 1.0000\n",
            "Epoch 69/200\n",
            "2/2 [==============================] - 0s 28ms/step - loss: 0.4148 - accuracy: 0.7583 - val_loss: 0.1135 - val_accuracy: 1.0000\n",
            "Epoch 70/200\n",
            "2/2 [==============================] - 0s 28ms/step - loss: 0.4265 - accuracy: 0.7750 - val_loss: 0.1135 - val_accuracy: 1.0000\n",
            "Epoch 71/200\n",
            "2/2 [==============================] - 0s 27ms/step - loss: 0.5799 - accuracy: 0.6250 - val_loss: 0.1137 - val_accuracy: 1.0000\n",
            "Epoch 72/200\n",
            "2/2 [==============================] - 0s 27ms/step - loss: 0.5299 - accuracy: 0.7417 - val_loss: 0.1140 - val_accuracy: 1.0000\n",
            "Epoch 73/200\n",
            "2/2 [==============================] - 0s 28ms/step - loss: 0.5010 - accuracy: 0.7250 - val_loss: 0.1144 - val_accuracy: 1.0000\n",
            "Epoch 74/200\n",
            "2/2 [==============================] - 0s 27ms/step - loss: 0.4382 - accuracy: 0.7917 - val_loss: 0.1147 - val_accuracy: 1.0000\n",
            "Epoch 75/200\n",
            "2/2 [==============================] - 0s 27ms/step - loss: 0.4436 - accuracy: 0.7583 - val_loss: 0.1148 - val_accuracy: 1.0000\n",
            "Epoch 76/200\n",
            "2/2 [==============================] - 0s 27ms/step - loss: 0.4227 - accuracy: 0.7750 - val_loss: 0.1148 - val_accuracy: 1.0000\n",
            "Epoch 77/200\n",
            "2/2 [==============================] - 0s 28ms/step - loss: 0.4155 - accuracy: 0.7667 - val_loss: 0.1147 - val_accuracy: 1.0000\n",
            "Epoch 78/200\n",
            "2/2 [==============================] - 0s 28ms/step - loss: 0.4947 - accuracy: 0.7250 - val_loss: 0.1145 - val_accuracy: 1.0000\n",
            "Epoch 79/200\n",
            "2/2 [==============================] - 0s 28ms/step - loss: 0.4346 - accuracy: 0.7417 - val_loss: 0.1143 - val_accuracy: 1.0000\n",
            "Epoch 80/200\n",
            "2/2 [==============================] - 0s 28ms/step - loss: 0.3561 - accuracy: 0.8083 - val_loss: 0.1141 - val_accuracy: 1.0000\n",
            "Epoch 81/200\n",
            "2/2 [==============================] - 0s 29ms/step - loss: 0.4548 - accuracy: 0.7583 - val_loss: 0.1137 - val_accuracy: 1.0000\n",
            "Epoch 82/200\n",
            "2/2 [==============================] - 0s 29ms/step - loss: 0.4471 - accuracy: 0.7417 - val_loss: 0.1134 - val_accuracy: 1.0000\n",
            "Epoch 83/200\n",
            "2/2 [==============================] - 0s 27ms/step - loss: 0.4958 - accuracy: 0.7250 - val_loss: 0.1132 - val_accuracy: 1.0000\n",
            "Epoch 84/200\n",
            "2/2 [==============================] - 0s 27ms/step - loss: 0.5002 - accuracy: 0.7000 - val_loss: 0.1132 - val_accuracy: 1.0000\n",
            "Epoch 85/200\n",
            "2/2 [==============================] - 0s 34ms/step - loss: 0.4906 - accuracy: 0.7250 - val_loss: 0.1131 - val_accuracy: 1.0000\n",
            "Epoch 86/200\n",
            "2/2 [==============================] - 0s 28ms/step - loss: 0.5058 - accuracy: 0.7167 - val_loss: 0.1131 - val_accuracy: 1.0000\n",
            "Epoch 87/200\n",
            "2/2 [==============================] - 0s 27ms/step - loss: 0.4725 - accuracy: 0.7083 - val_loss: 0.1132 - val_accuracy: 1.0000\n",
            "Epoch 88/200\n",
            "2/2 [==============================] - 0s 29ms/step - loss: 0.4013 - accuracy: 0.7917 - val_loss: 0.1131 - val_accuracy: 1.0000\n",
            "Epoch 89/200\n",
            "2/2 [==============================] - 0s 27ms/step - loss: 0.4319 - accuracy: 0.7500 - val_loss: 0.1131 - val_accuracy: 1.0000\n",
            "Epoch 90/200\n",
            "2/2 [==============================] - 0s 29ms/step - loss: 0.5133 - accuracy: 0.7167 - val_loss: 0.1133 - val_accuracy: 1.0000\n",
            "Epoch 91/200\n",
            "2/2 [==============================] - 0s 28ms/step - loss: 0.4578 - accuracy: 0.7667 - val_loss: 0.1136 - val_accuracy: 1.0000\n",
            "Epoch 92/200\n",
            "2/2 [==============================] - 0s 27ms/step - loss: 0.4321 - accuracy: 0.7417 - val_loss: 0.1139 - val_accuracy: 1.0000\n",
            "Epoch 93/200\n",
            "2/2 [==============================] - 0s 28ms/step - loss: 0.4626 - accuracy: 0.7250 - val_loss: 0.1144 - val_accuracy: 1.0000\n",
            "Epoch 94/200\n",
            "2/2 [==============================] - 0s 29ms/step - loss: 0.4825 - accuracy: 0.7083 - val_loss: 0.1149 - val_accuracy: 1.0000\n",
            "Epoch 95/200\n",
            "2/2 [==============================] - 0s 29ms/step - loss: 0.3853 - accuracy: 0.7750 - val_loss: 0.1153 - val_accuracy: 1.0000\n",
            "Epoch 96/200\n",
            "2/2 [==============================] - 0s 27ms/step - loss: 0.4545 - accuracy: 0.7833 - val_loss: 0.1154 - val_accuracy: 1.0000\n",
            "Epoch 97/200\n",
            "2/2 [==============================] - 0s 27ms/step - loss: 0.5811 - accuracy: 0.6667 - val_loss: 0.1154 - val_accuracy: 1.0000\n",
            "Epoch 98/200\n",
            "2/2 [==============================] - 0s 27ms/step - loss: 0.4435 - accuracy: 0.7750 - val_loss: 0.1154 - val_accuracy: 1.0000\n",
            "Epoch 99/200\n",
            "2/2 [==============================] - 0s 28ms/step - loss: 0.4236 - accuracy: 0.7417 - val_loss: 0.1154 - val_accuracy: 1.0000\n",
            "Epoch 100/200\n",
            "2/2 [==============================] - 0s 31ms/step - loss: 0.4734 - accuracy: 0.7333 - val_loss: 0.1153 - val_accuracy: 1.0000\n",
            "Epoch 101/200\n",
            "2/2 [==============================] - 0s 29ms/step - loss: 0.4912 - accuracy: 0.7083 - val_loss: 0.1152 - val_accuracy: 1.0000\n",
            "Epoch 102/200\n",
            "2/2 [==============================] - 0s 29ms/step - loss: 0.4503 - accuracy: 0.7417 - val_loss: 0.1150 - val_accuracy: 1.0000\n",
            "Epoch 103/200\n",
            "2/2 [==============================] - 0s 28ms/step - loss: 0.4332 - accuracy: 0.7500 - val_loss: 0.1149 - val_accuracy: 1.0000\n",
            "Epoch 104/200\n",
            "2/2 [==============================] - 0s 28ms/step - loss: 0.4573 - accuracy: 0.7750 - val_loss: 0.1148 - val_accuracy: 1.0000\n",
            "Epoch 105/200\n",
            "2/2 [==============================] - 0s 27ms/step - loss: 0.4607 - accuracy: 0.7583 - val_loss: 0.1146 - val_accuracy: 1.0000\n",
            "Epoch 106/200\n",
            "2/2 [==============================] - 0s 27ms/step - loss: 0.4387 - accuracy: 0.7417 - val_loss: 0.1147 - val_accuracy: 1.0000\n",
            "Epoch 107/200\n",
            "2/2 [==============================] - 0s 27ms/step - loss: 0.4160 - accuracy: 0.7917 - val_loss: 0.1147 - val_accuracy: 1.0000\n",
            "Epoch 108/200\n",
            "2/2 [==============================] - 0s 28ms/step - loss: 0.4598 - accuracy: 0.7667 - val_loss: 0.1148 - val_accuracy: 1.0000\n",
            "Epoch 109/200\n",
            "2/2 [==============================] - 0s 29ms/step - loss: 0.4840 - accuracy: 0.7417 - val_loss: 0.1149 - val_accuracy: 1.0000\n",
            "Epoch 110/200\n",
            "2/2 [==============================] - 0s 28ms/step - loss: 0.5062 - accuracy: 0.6750 - val_loss: 0.1151 - val_accuracy: 1.0000\n",
            "Epoch 111/200\n",
            "2/2 [==============================] - 0s 48ms/step - loss: 0.5659 - accuracy: 0.6667 - val_loss: 0.1155 - val_accuracy: 1.0000\n",
            "Epoch 112/200\n",
            "2/2 [==============================] - 0s 29ms/step - loss: 0.4155 - accuracy: 0.8000 - val_loss: 0.1157 - val_accuracy: 1.0000\n",
            "Epoch 113/200\n",
            "2/2 [==============================] - 0s 28ms/step - loss: 0.4915 - accuracy: 0.7333 - val_loss: 0.1158 - val_accuracy: 1.0000\n",
            "Epoch 114/200\n",
            "2/2 [==============================] - 0s 28ms/step - loss: 0.4742 - accuracy: 0.7583 - val_loss: 0.1160 - val_accuracy: 1.0000\n",
            "Epoch 115/200\n",
            "2/2 [==============================] - 0s 27ms/step - loss: 0.4787 - accuracy: 0.7333 - val_loss: 0.1163 - val_accuracy: 1.0000\n",
            "Epoch 116/200\n",
            "2/2 [==============================] - 0s 27ms/step - loss: 0.5278 - accuracy: 0.7083 - val_loss: 0.1165 - val_accuracy: 1.0000\n",
            "Epoch 117/200\n",
            "2/2 [==============================] - 0s 29ms/step - loss: 0.3972 - accuracy: 0.7833 - val_loss: 0.1166 - val_accuracy: 1.0000\n",
            "Epoch 118/200\n",
            "2/2 [==============================] - 0s 28ms/step - loss: 0.4965 - accuracy: 0.7500 - val_loss: 0.1166 - val_accuracy: 1.0000\n",
            "Epoch 119/200\n",
            "2/2 [==============================] - 0s 28ms/step - loss: 0.5538 - accuracy: 0.7000 - val_loss: 0.1166 - val_accuracy: 1.0000\n",
            "Epoch 120/200\n",
            "2/2 [==============================] - 0s 27ms/step - loss: 0.3836 - accuracy: 0.8083 - val_loss: 0.1167 - val_accuracy: 1.0000\n",
            "Epoch 121/200\n",
            "2/2 [==============================] - 0s 26ms/step - loss: 0.4624 - accuracy: 0.7667 - val_loss: 0.1168 - val_accuracy: 1.0000\n",
            "Epoch 122/200\n",
            "2/2 [==============================] - 0s 29ms/step - loss: 0.4812 - accuracy: 0.7083 - val_loss: 0.1169 - val_accuracy: 1.0000\n",
            "Epoch 123/200\n",
            "2/2 [==============================] - 0s 29ms/step - loss: 0.4816 - accuracy: 0.7083 - val_loss: 0.1168 - val_accuracy: 1.0000\n",
            "Epoch 124/200\n",
            "2/2 [==============================] - 0s 28ms/step - loss: 0.3823 - accuracy: 0.8417 - val_loss: 0.1168 - val_accuracy: 1.0000\n",
            "Epoch 125/200\n",
            "2/2 [==============================] - 0s 28ms/step - loss: 0.4543 - accuracy: 0.7750 - val_loss: 0.1165 - val_accuracy: 1.0000\n",
            "Epoch 126/200\n",
            "2/2 [==============================] - 0s 28ms/step - loss: 0.4286 - accuracy: 0.8000 - val_loss: 0.1162 - val_accuracy: 1.0000\n",
            "Epoch 127/200\n",
            "2/2 [==============================] - 0s 28ms/step - loss: 0.3923 - accuracy: 0.7917 - val_loss: 0.1159 - val_accuracy: 1.0000\n",
            "Epoch 128/200\n",
            "2/2 [==============================] - 0s 27ms/step - loss: 0.4717 - accuracy: 0.7500 - val_loss: 0.1157 - val_accuracy: 1.0000\n",
            "Epoch 129/200\n",
            "2/2 [==============================] - 0s 28ms/step - loss: 0.6062 - accuracy: 0.6083 - val_loss: 0.1155 - val_accuracy: 1.0000\n",
            "Epoch 130/200\n",
            "2/2 [==============================] - 0s 27ms/step - loss: 0.4054 - accuracy: 0.7667 - val_loss: 0.1154 - val_accuracy: 1.0000\n",
            "Epoch 131/200\n",
            "2/2 [==============================] - 0s 28ms/step - loss: 0.5102 - accuracy: 0.7000 - val_loss: 0.1154 - val_accuracy: 1.0000\n",
            "Epoch 132/200\n",
            "2/2 [==============================] - 0s 29ms/step - loss: 0.4511 - accuracy: 0.7667 - val_loss: 0.1153 - val_accuracy: 1.0000\n",
            "Epoch 133/200\n",
            "2/2 [==============================] - 0s 30ms/step - loss: 0.4524 - accuracy: 0.7667 - val_loss: 0.1152 - val_accuracy: 1.0000\n",
            "Epoch 134/200\n",
            "2/2 [==============================] - 0s 34ms/step - loss: 0.4316 - accuracy: 0.7500 - val_loss: 0.1151 - val_accuracy: 1.0000\n",
            "Epoch 135/200\n",
            "2/2 [==============================] - 0s 28ms/step - loss: 0.4420 - accuracy: 0.7500 - val_loss: 0.1149 - val_accuracy: 1.0000\n",
            "Epoch 136/200\n",
            "2/2 [==============================] - 0s 29ms/step - loss: 0.4727 - accuracy: 0.7250 - val_loss: 0.1148 - val_accuracy: 1.0000\n",
            "Epoch 137/200\n",
            "2/2 [==============================] - 0s 28ms/step - loss: 0.5234 - accuracy: 0.7000 - val_loss: 0.1147 - val_accuracy: 1.0000\n",
            "Epoch 138/200\n",
            "2/2 [==============================] - 0s 30ms/step - loss: 0.4228 - accuracy: 0.7833 - val_loss: 0.1146 - val_accuracy: 1.0000\n",
            "Epoch 139/200\n",
            "2/2 [==============================] - 0s 28ms/step - loss: 0.4586 - accuracy: 0.7417 - val_loss: 0.1144 - val_accuracy: 1.0000\n",
            "Epoch 140/200\n",
            "2/2 [==============================] - 0s 29ms/step - loss: 0.5281 - accuracy: 0.7583 - val_loss: 0.1141 - val_accuracy: 1.0000\n",
            "Epoch 141/200\n",
            "2/2 [==============================] - 0s 29ms/step - loss: 0.4459 - accuracy: 0.7833 - val_loss: 0.1139 - val_accuracy: 1.0000\n",
            "Epoch 142/200\n",
            "2/2 [==============================] - 0s 28ms/step - loss: 0.5810 - accuracy: 0.6667 - val_loss: 0.1140 - val_accuracy: 1.0000\n",
            "Epoch 143/200\n",
            "2/2 [==============================] - 0s 31ms/step - loss: 0.6071 - accuracy: 0.6333 - val_loss: 0.1141 - val_accuracy: 1.0000\n",
            "Epoch 144/200\n",
            "2/2 [==============================] - 0s 33ms/step - loss: 0.5966 - accuracy: 0.6333 - val_loss: 0.1143 - val_accuracy: 1.0000\n",
            "Epoch 145/200\n",
            "2/2 [==============================] - 0s 28ms/step - loss: 0.4894 - accuracy: 0.7167 - val_loss: 0.1144 - val_accuracy: 1.0000\n",
            "Epoch 146/200\n",
            "2/2 [==============================] - 0s 28ms/step - loss: 0.4442 - accuracy: 0.7500 - val_loss: 0.1145 - val_accuracy: 1.0000\n",
            "Epoch 147/200\n",
            "2/2 [==============================] - 0s 28ms/step - loss: 0.4171 - accuracy: 0.7750 - val_loss: 0.1144 - val_accuracy: 1.0000\n",
            "Epoch 148/200\n",
            "2/2 [==============================] - 0s 28ms/step - loss: 0.4881 - accuracy: 0.7417 - val_loss: 0.1142 - val_accuracy: 1.0000\n",
            "Epoch 149/200\n",
            "2/2 [==============================] - 0s 28ms/step - loss: 0.4495 - accuracy: 0.7333 - val_loss: 0.1142 - val_accuracy: 1.0000\n",
            "Epoch 150/200\n",
            "2/2 [==============================] - 0s 29ms/step - loss: 0.4309 - accuracy: 0.7417 - val_loss: 0.1143 - val_accuracy: 1.0000\n",
            "Epoch 151/200\n",
            "2/2 [==============================] - 0s 27ms/step - loss: 0.3902 - accuracy: 0.8083 - val_loss: 0.1143 - val_accuracy: 1.0000\n",
            "Epoch 152/200\n",
            "2/2 [==============================] - 0s 28ms/step - loss: 0.4678 - accuracy: 0.7000 - val_loss: 0.1142 - val_accuracy: 1.0000\n",
            "Epoch 153/200\n",
            "2/2 [==============================] - 0s 28ms/step - loss: 0.5389 - accuracy: 0.6750 - val_loss: 0.1139 - val_accuracy: 1.0000\n",
            "Epoch 154/200\n",
            "2/2 [==============================] - 0s 27ms/step - loss: 0.4302 - accuracy: 0.7750 - val_loss: 0.1135 - val_accuracy: 1.0000\n",
            "Epoch 155/200\n",
            "2/2 [==============================] - 0s 27ms/step - loss: 0.4184 - accuracy: 0.7667 - val_loss: 0.1133 - val_accuracy: 1.0000\n",
            "Epoch 156/200\n",
            "2/2 [==============================] - 0s 29ms/step - loss: 0.3974 - accuracy: 0.7750 - val_loss: 0.1129 - val_accuracy: 1.0000\n",
            "Epoch 157/200\n",
            "2/2 [==============================] - 0s 29ms/step - loss: 0.5406 - accuracy: 0.6333 - val_loss: 0.1127 - val_accuracy: 1.0000\n",
            "Epoch 158/200\n",
            "2/2 [==============================] - 0s 29ms/step - loss: 0.4261 - accuracy: 0.7500 - val_loss: 0.1127 - val_accuracy: 1.0000\n",
            "Epoch 159/200\n",
            "2/2 [==============================] - 0s 31ms/step - loss: 0.5210 - accuracy: 0.7333 - val_loss: 0.1128 - val_accuracy: 1.0000\n",
            "Epoch 160/200\n",
            "2/2 [==============================] - 0s 43ms/step - loss: 0.4435 - accuracy: 0.7917 - val_loss: 0.1129 - val_accuracy: 1.0000\n",
            "Epoch 161/200\n",
            "2/2 [==============================] - 0s 33ms/step - loss: 0.4789 - accuracy: 0.7167 - val_loss: 0.1130 - val_accuracy: 1.0000\n",
            "Epoch 162/200\n",
            "2/2 [==============================] - 0s 27ms/step - loss: 0.5420 - accuracy: 0.6833 - val_loss: 0.1135 - val_accuracy: 1.0000\n",
            "Epoch 163/200\n",
            "2/2 [==============================] - 0s 47ms/step - loss: 0.5011 - accuracy: 0.7250 - val_loss: 0.1139 - val_accuracy: 1.0000\n",
            "Epoch 164/200\n",
            "2/2 [==============================] - 0s 54ms/step - loss: 0.4083 - accuracy: 0.7583 - val_loss: 0.1145 - val_accuracy: 1.0000\n",
            "Epoch 165/200\n",
            "2/2 [==============================] - 0s 28ms/step - loss: 0.5566 - accuracy: 0.7083 - val_loss: 0.1150 - val_accuracy: 1.0000\n",
            "Epoch 166/200\n",
            "2/2 [==============================] - 0s 28ms/step - loss: 0.4319 - accuracy: 0.8000 - val_loss: 0.1153 - val_accuracy: 1.0000\n",
            "Epoch 167/200\n",
            "2/2 [==============================] - 0s 29ms/step - loss: 0.4606 - accuracy: 0.7667 - val_loss: 0.1155 - val_accuracy: 1.0000\n",
            "Epoch 168/200\n",
            "2/2 [==============================] - 0s 28ms/step - loss: 0.4373 - accuracy: 0.8000 - val_loss: 0.1155 - val_accuracy: 1.0000\n",
            "Epoch 169/200\n",
            "2/2 [==============================] - 0s 31ms/step - loss: 0.4293 - accuracy: 0.7917 - val_loss: 0.1154 - val_accuracy: 1.0000\n",
            "Epoch 170/200\n",
            "2/2 [==============================] - 0s 28ms/step - loss: 0.4705 - accuracy: 0.7250 - val_loss: 0.1152 - val_accuracy: 1.0000\n",
            "Epoch 171/200\n",
            "2/2 [==============================] - 0s 27ms/step - loss: 0.5197 - accuracy: 0.6750 - val_loss: 0.1152 - val_accuracy: 1.0000\n",
            "Epoch 172/200\n",
            "2/2 [==============================] - 0s 29ms/step - loss: 0.4858 - accuracy: 0.7417 - val_loss: 0.1151 - val_accuracy: 1.0000\n",
            "Epoch 173/200\n",
            "2/2 [==============================] - 0s 27ms/step - loss: 0.3733 - accuracy: 0.8083 - val_loss: 0.1150 - val_accuracy: 1.0000\n",
            "Epoch 174/200\n",
            "2/2 [==============================] - 0s 27ms/step - loss: 0.3684 - accuracy: 0.8333 - val_loss: 0.1146 - val_accuracy: 1.0000\n",
            "Epoch 175/200\n",
            "2/2 [==============================] - 0s 27ms/step - loss: 0.3932 - accuracy: 0.7917 - val_loss: 0.1143 - val_accuracy: 1.0000\n",
            "Epoch 176/200\n",
            "2/2 [==============================] - 0s 28ms/step - loss: 0.4262 - accuracy: 0.7500 - val_loss: 0.1142 - val_accuracy: 1.0000\n",
            "Epoch 177/200\n",
            "2/2 [==============================] - 0s 29ms/step - loss: 0.5026 - accuracy: 0.7167 - val_loss: 0.1139 - val_accuracy: 1.0000\n",
            "Epoch 178/200\n",
            "2/2 [==============================] - 0s 29ms/step - loss: 0.5354 - accuracy: 0.6917 - val_loss: 0.1138 - val_accuracy: 1.0000\n",
            "Epoch 179/200\n",
            "2/2 [==============================] - 0s 30ms/step - loss: 0.4909 - accuracy: 0.7500 - val_loss: 0.1136 - val_accuracy: 1.0000\n",
            "Epoch 180/200\n",
            "2/2 [==============================] - 0s 28ms/step - loss: 0.5372 - accuracy: 0.7333 - val_loss: 0.1135 - val_accuracy: 1.0000\n",
            "Epoch 181/200\n",
            "2/2 [==============================] - 0s 28ms/step - loss: 0.3637 - accuracy: 0.7917 - val_loss: 0.1133 - val_accuracy: 1.0000\n",
            "Epoch 182/200\n",
            "2/2 [==============================] - 0s 29ms/step - loss: 0.4310 - accuracy: 0.7500 - val_loss: 0.1129 - val_accuracy: 1.0000\n",
            "Epoch 183/200\n",
            "2/2 [==============================] - 0s 28ms/step - loss: 0.4074 - accuracy: 0.7833 - val_loss: 0.1125 - val_accuracy: 1.0000\n",
            "Epoch 184/200\n",
            "2/2 [==============================] - 0s 29ms/step - loss: 0.5810 - accuracy: 0.6167 - val_loss: 0.1123 - val_accuracy: 1.0000\n",
            "Epoch 185/200\n",
            "2/2 [==============================] - 0s 47ms/step - loss: 0.4895 - accuracy: 0.7083 - val_loss: 0.1122 - val_accuracy: 1.0000\n",
            "Epoch 186/200\n",
            "2/2 [==============================] - 0s 31ms/step - loss: 0.4131 - accuracy: 0.8000 - val_loss: 0.1122 - val_accuracy: 1.0000\n",
            "Epoch 187/200\n",
            "2/2 [==============================] - 0s 28ms/step - loss: 0.4898 - accuracy: 0.7083 - val_loss: 0.1122 - val_accuracy: 1.0000\n",
            "Epoch 188/200\n",
            "2/2 [==============================] - 0s 39ms/step - loss: 0.4677 - accuracy: 0.7583 - val_loss: 0.1122 - val_accuracy: 1.0000\n",
            "Epoch 189/200\n",
            "2/2 [==============================] - 0s 30ms/step - loss: 0.4584 - accuracy: 0.7333 - val_loss: 0.1122 - val_accuracy: 1.0000\n",
            "Epoch 190/200\n",
            "2/2 [==============================] - 0s 29ms/step - loss: 0.4516 - accuracy: 0.7583 - val_loss: 0.1123 - val_accuracy: 1.0000\n",
            "Epoch 191/200\n",
            "2/2 [==============================] - 0s 29ms/step - loss: 0.5488 - accuracy: 0.6250 - val_loss: 0.1125 - val_accuracy: 1.0000\n",
            "Epoch 192/200\n",
            "2/2 [==============================] - 0s 29ms/step - loss: 0.4365 - accuracy: 0.7417 - val_loss: 0.1129 - val_accuracy: 1.0000\n",
            "Epoch 193/200\n",
            "2/2 [==============================] - 0s 28ms/step - loss: 0.4766 - accuracy: 0.7167 - val_loss: 0.1132 - val_accuracy: 1.0000\n",
            "Epoch 194/200\n",
            "2/2 [==============================] - 0s 28ms/step - loss: 0.4588 - accuracy: 0.7500 - val_loss: 0.1136 - val_accuracy: 1.0000\n",
            "Epoch 195/200\n",
            "2/2 [==============================] - 0s 28ms/step - loss: 0.5005 - accuracy: 0.7417 - val_loss: 0.1140 - val_accuracy: 1.0000\n",
            "Epoch 196/200\n",
            "2/2 [==============================] - 0s 30ms/step - loss: 0.5618 - accuracy: 0.6583 - val_loss: 0.1142 - val_accuracy: 1.0000\n",
            "Epoch 197/200\n",
            "2/2 [==============================] - 0s 29ms/step - loss: 0.3969 - accuracy: 0.8167 - val_loss: 0.1143 - val_accuracy: 1.0000\n",
            "Epoch 198/200\n",
            "2/2 [==============================] - 0s 27ms/step - loss: 0.4267 - accuracy: 0.7583 - val_loss: 0.1145 - val_accuracy: 1.0000\n",
            "Epoch 199/200\n",
            "2/2 [==============================] - 0s 28ms/step - loss: 0.4681 - accuracy: 0.7583 - val_loss: 0.1147 - val_accuracy: 1.0000\n",
            "Epoch 200/200\n",
            "2/2 [==============================] - 0s 27ms/step - loss: 0.4563 - accuracy: 0.7417 - val_loss: 0.1147 - val_accuracy: 1.0000\n"
          ]
        }
      ],
      "source": [
        "# Train the model\n",
        "history = model.fit(train_x, train_y,\n",
        "          batch_size=64,epochs=200,\n",
        "           validation_data=(test_x, test_y))"
      ]
    },
    {
      "cell_type": "code",
      "source": [],
      "metadata": {
        "id": "Owu1OFc1u2zN"
      },
      "execution_count": null,
      "outputs": []
    },
    {
      "cell_type": "markdown",
      "metadata": {
        "id": "1t-lwGvPoHLd"
      },
      "source": [
        "# <div style=\"direction:rtl;text-align:right;font-family:B Lotus, B Nazanin, Tahoma\">سوال 4:</div>\n",
        "<div style=\"direction:rtl;text-align:right;font-family:Tahoma\">\n",
        "مدل را روی داده های test ارزیابی کنید.\n",
        "<br>\n",
        "<b>راهنمایی: </b>\n",
        "از تابع model.evaluate استفاده کنید.\n",
        "</div>"
      ]
    },
    {
      "cell_type": "code",
      "execution_count": null,
      "metadata": {
        "id": "xEgGbWeOoHLd",
        "outputId": "8fcba4a7-e1ae-4cc5-bf4d-7933758cf834",
        "colab": {
          "base_uri": "https://localhost:8080/"
        }
      },
      "outputs": [
        {
          "output_type": "stream",
          "name": "stdout",
          "text": [
            "1/1 [==============================] - 0s 134ms/step - loss: 0.2813 - accuracy: 1.0000\n",
            "Final test set loss: 0.281295\n",
            "Final test set accuracy: 1.000000\n"
          ]
        }
      ],
      "source": [
        "# Test on unseen data\n",
        "results = model.evaluate(test_x, test_y)\n",
        "\n",
        "print('Final test set loss: {:4f}'.format(results[0]))\n",
        "print('Final test set accuracy: {:4f}'.format(results[1]))"
      ]
    },
    {
      "cell_type": "code",
      "source": [
        "import matplotlib.pyplot as plt\n",
        "plt.plot(history.history['accuracy'])\n",
        "plt.plot(history.history['val_accuracy'])"
      ],
      "metadata": {
        "id": "nKatYifovOif",
        "outputId": "cb6a4d2f-154a-4722-dc23-b8e91834b8f7",
        "colab": {
          "base_uri": "https://localhost:8080/",
          "height": 447
        }
      },
      "execution_count": null,
      "outputs": [
        {
          "output_type": "execute_result",
          "data": {
            "text/plain": [
              "[<matplotlib.lines.Line2D at 0x7df61c74cd60>]"
            ]
          },
          "metadata": {},
          "execution_count": 24
        },
        {
          "output_type": "display_data",
          "data": {
            "text/plain": [
              "<Figure size 640x480 with 1 Axes>"
            ],
            "image/png": "[encoded data removed]"
          },
          "metadata": {}
        }
      ]
    },
    {
      "cell_type": "code",
      "source": [],
      "metadata": {
        "id": "my7IMGeivkCe"
      },
      "execution_count": null,
      "outputs": []
    }
  ],
  "metadata": {
    "kernelspec": {
      "display_name": "Python 3",
      "name": "python3"
    },
    "language_info": {
      "codemirror_mode": {
        "name": "ipython",
        "version": 3
      },
      "file_extension": ".py",
      "mimetype": "text/x-python",
      "name": "python",
      "nbconvert_exporter": "python",
      "pygments_lexer": "ipython3",
      "version": "3.8.10"
    },
    "colab": {
      "provenance": [],
      "gpuType": "T4"
    },
    "accelerator": "GPU"
  },
  "nbformat": 4,
  "nbformat_minor": 0
}