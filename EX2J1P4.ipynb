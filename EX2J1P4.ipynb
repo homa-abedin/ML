{
  "cells": [
    {
      "cell_type": "markdown",
      "metadata": {
        "id": "view-in-github",
        "colab_type": "text"
      },
      "source": [
        "<a href=\"https://colab.research.google.com/github/homa-abedin/ML/blob/master/EX2J1P4.ipynb\" target=\"_parent\"><img src=\"https://colab.research.google.com/assets/colab-badge.svg\" alt=\"Open In Colab\"/></a>"
      ]
    },
    {
      "cell_type": "code",
      "source": [
        "from tensorflow import keras\n",
        "from keras.models import Sequential\n",
        "from keras.layers import Dense, Dropout\n",
        "import numpy as np\n",
        "import matplotlib.pyplot as plt\n",
        "import cv2"
      ],
      "metadata": {
        "id": "p3PmZjcCfi5f"
      },
      "execution_count": null,
      "outputs": []
    },
    {
      "cell_type": "code",
      "source": [
        "fashion_mnist = keras.datasets.fashion_mnist\n",
        "(train_images, train_labels), (test_images, test_labels) = fashion_mnist.load_data()"
      ],
      "metadata": {
        "colab": {
          "base_uri": "https://localhost:8080/"
        },
        "id": "wGUGaia6fQRB",
        "outputId": "7451b9a3-38db-490d-ab49-453d1d067248"
      },
      "execution_count": null,
      "outputs": [
        {
          "output_type": "stream",
          "name": "stdout",
          "text": [
            "Downloading data from https://storage.googleapis.com/tensorflow/tf-keras-datasets/train-labels-idx1-ubyte.gz\n",
            "29515/29515 [==============================] - 0s 0us/step\n",
            "Downloading data from https://storage.googleapis.com/tensorflow/tf-keras-datasets/train-images-idx3-ubyte.gz\n",
            "26421880/26421880 [==============================] - 0s 0us/step\n",
            "Downloading data from https://storage.googleapis.com/tensorflow/tf-keras-datasets/t10k-labels-idx1-ubyte.gz\n",
            "5148/5148 [==============================] - 0s 0us/step\n",
            "Downloading data from https://storage.googleapis.com/tensorflow/tf-keras-datasets/t10k-images-idx3-ubyte.gz\n",
            "4422102/4422102 [==============================] - 0s 0us/step\n"
          ]
        }
      ]
    },
    {
      "cell_type": "code",
      "source": [
        "train_labels.shape"
      ],
      "metadata": {
        "colab": {
          "base_uri": "https://localhost:8080/"
        },
        "id": "wUr91VhCfpBe",
        "outputId": "3713e573-cfbd-4a2f-a66c-f46ed2a02d31"
      },
      "execution_count": null,
      "outputs": [
        {
          "output_type": "execute_result",
          "data": {
            "text/plain": [
              "(60000,)"
            ]
          },
          "metadata": {},
          "execution_count": 3
        }
      ]
    },
    {
      "cell_type": "code",
      "source": [
        "np.unique(train_labels)"
      ],
      "metadata": {
        "colab": {
          "base_uri": "https://localhost:8080/"
        },
        "id": "j17nsafhne4x",
        "outputId": "58fb120b-fa6b-4d33-ec2e-010778a3fdb1"
      },
      "execution_count": null,
      "outputs": [
        {
          "output_type": "execute_result",
          "data": {
            "text/plain": [
              "array([0, 1, 2, 3, 4, 5, 6, 7, 8, 9], dtype=uint8)"
            ]
          },
          "metadata": {},
          "execution_count": 4
        }
      ]
    },
    {
      "cell_type": "code",
      "source": [
        "train_images.shape"
      ],
      "metadata": {
        "colab": {
          "base_uri": "https://localhost:8080/"
        },
        "id": "ntZLYhrwlrTd",
        "outputId": "6b2c9a79-e594-462b-eed9-f8aa1b5f3d96"
      },
      "execution_count": null,
      "outputs": [
        {
          "output_type": "execute_result",
          "data": {
            "text/plain": [
              "(60000, 28, 28)"
            ]
          },
          "metadata": {},
          "execution_count": 5
        }
      ]
    },
    {
      "cell_type": "code",
      "source": [
        "plt.imshow(train_images[5])\n",
        "plt.show()\n",
        "print(train_labels[5])"
      ],
      "metadata": {
        "colab": {
          "base_uri": "https://localhost:8080/",
          "height": 447
        },
        "id": "1sqI3tEZijc_",
        "outputId": "341a368c-36ff-4d64-a2e9-cf65a5c9c6a1"
      },
      "execution_count": null,
      "outputs": [
        {
          "output_type": "display_data",
          "data": {
            "text/plain": [
              "<Figure size 640x480 with 1 Axes>"
            ],
            "image/png": "[encoded data removed]"
          },
          "metadata": {}
        },
        {
          "output_type": "stream",
          "name": "stdout",
          "text": [
            "2\n"
          ]
        }
      ]
    },
    {
      "cell_type": "code",
      "source": [
        "X_train_5by5 = [cv2.resize(img, dsize=(5, 5)) for img in train_images]\n",
        "X_test_5by_5 = [cv2.resize(img, dsize=(5, 5)) for img in test_images]"
      ],
      "metadata": {
        "id": "Kf__zCZ7ywDX"
      },
      "execution_count": null,
      "outputs": []
    },
    {
      "cell_type": "code",
      "source": [
        "X_train = np.reshape(X_train_5by5, [-1,5**2])\n",
        "X_test = np.reshape(X_test_5by_5, [-1,5**2])"
      ],
      "metadata": {
        "id": "n7lAi6eL0j-7"
      },
      "execution_count": null,
      "outputs": []
    },
    {
      "cell_type": "code",
      "source": [
        "X_train.shape"
      ],
      "metadata": {
        "colab": {
          "base_uri": "https://localhost:8080/"
        },
        "id": "SiUxRSco0m_T",
        "outputId": "bb9ab160-06de-4e34-8cd6-04f3b3fb268f"
      },
      "execution_count": null,
      "outputs": [
        {
          "output_type": "execute_result",
          "data": {
            "text/plain": [
              "(60000, 25)"
            ]
          },
          "metadata": {},
          "execution_count": 9
        }
      ]
    },
    {
      "cell_type": "code",
      "source": [
        "x_train = X_train.astype('float32')\n",
        "x_test = X_test.astype('float32')\n",
        "x_train /= 255\n",
        "x_test /= 255"
      ],
      "metadata": {
        "id": "lfaIg-gx0qCi"
      },
      "execution_count": null,
      "outputs": []
    },
    {
      "cell_type": "code",
      "source": [
        "y_train = keras.utils.to_categorical(train_labels, num_classes=X_train.shape[-1])\n",
        "y_test = keras.utils.to_categorical(test_labels, num_classes=X_test.shape[-1])"
      ],
      "metadata": {
        "id": "D4jmKDNK1AxH"
      },
      "execution_count": null,
      "outputs": []
    },
    {
      "cell_type": "code",
      "source": [
        "model = Sequential()\n",
        "model.add(Dense(128, activation='relu', input_dim=25))\n",
        "model.add(Dense(68, activation='relu'))\n",
        "model.add(Dense(25, activation='softmax'))"
      ],
      "metadata": {
        "id": "x2QpfTK92Idl"
      },
      "execution_count": null,
      "outputs": []
    },
    {
      "cell_type": "code",
      "source": [
        "model.compile(loss='categorical_crossentropy',\n",
        "              optimizer='rmsprop',\n",
        "              metrics=['accuracy'])"
      ],
      "metadata": {
        "id": "E5xcfW502bPA"
      },
      "execution_count": null,
      "outputs": []
    },
    {
      "cell_type": "code",
      "source": [
        "history = model.fit(x_train, y_train,\n",
        "          epochs=100,\n",
        "          batch_size=128, validation_data=(x_test, y_test))"
      ],
      "metadata": {
        "colab": {
          "base_uri": "https://localhost:8080/"
        },
        "id": "jnYa5zET2eCf",
        "outputId": "3ca30a05-ccdf-42a2-8422-5b3f011ba583"
      },
      "execution_count": null,
      "outputs": [
        {
          "output_type": "stream",
          "name": "stdout",
          "text": [
            "Epoch 1/100\n",
            "469/469 [==============================] - 3s 5ms/step - loss: 1.0045 - accuracy: 0.6722 - val_loss: 0.7561 - val_accuracy: 0.7289\n",
            "Epoch 2/100\n",
            "469/469 [==============================] - 2s 4ms/step - loss: 0.7160 - accuracy: 0.7426 - val_loss: 0.7235 - val_accuracy: 0.7377\n",
            "Epoch 3/100\n",
            "469/469 [==============================] - 2s 4ms/step - loss: 0.6762 - accuracy: 0.7549 - val_loss: 0.6695 - val_accuracy: 0.7569\n",
            "Epoch 4/100\n",
            "469/469 [==============================] - 2s 4ms/step - loss: 0.6472 - accuracy: 0.7649 - val_loss: 0.6536 - val_accuracy: 0.7617\n",
            "Epoch 5/100\n",
            "469/469 [==============================] - 2s 4ms/step - loss: 0.6240 - accuracy: 0.7723 - val_loss: 0.6468 - val_accuracy: 0.7634\n",
            "Epoch 6/100\n",
            "469/469 [==============================] - 2s 4ms/step - loss: 0.6056 - accuracy: 0.7779 - val_loss: 0.6254 - val_accuracy: 0.7691\n",
            "Epoch 7/100\n",
            "469/469 [==============================] - 2s 5ms/step - loss: 0.5917 - accuracy: 0.7829 - val_loss: 0.6201 - val_accuracy: 0.7756\n",
            "Epoch 8/100\n",
            "469/469 [==============================] - 2s 4ms/step - loss: 0.5808 - accuracy: 0.7870 - val_loss: 0.6155 - val_accuracy: 0.7714\n",
            "Epoch 9/100\n",
            "469/469 [==============================] - 2s 4ms/step - loss: 0.5709 - accuracy: 0.7895 - val_loss: 0.5990 - val_accuracy: 0.7782\n",
            "Epoch 10/100\n",
            "469/469 [==============================] - 2s 4ms/step - loss: 0.5641 - accuracy: 0.7919 - val_loss: 0.5915 - val_accuracy: 0.7858\n",
            "Epoch 11/100\n",
            "469/469 [==============================] - 2s 4ms/step - loss: 0.5572 - accuracy: 0.7952 - val_loss: 0.5856 - val_accuracy: 0.7879\n",
            "Epoch 12/100\n",
            "469/469 [==============================] - 2s 4ms/step - loss: 0.5507 - accuracy: 0.7971 - val_loss: 0.5882 - val_accuracy: 0.7843\n",
            "Epoch 13/100\n",
            "469/469 [==============================] - 2s 4ms/step - loss: 0.5449 - accuracy: 0.7987 - val_loss: 0.5787 - val_accuracy: 0.7904\n",
            "Epoch 14/100\n",
            "469/469 [==============================] - 2s 5ms/step - loss: 0.5400 - accuracy: 0.8001 - val_loss: 0.5706 - val_accuracy: 0.7908\n",
            "Epoch 15/100\n",
            "469/469 [==============================] - 2s 4ms/step - loss: 0.5344 - accuracy: 0.8020 - val_loss: 0.5787 - val_accuracy: 0.7915\n",
            "Epoch 16/100\n",
            "469/469 [==============================] - 2s 4ms/step - loss: 0.5313 - accuracy: 0.8021 - val_loss: 0.5752 - val_accuracy: 0.7848\n",
            "Epoch 17/100\n",
            "469/469 [==============================] - 2s 4ms/step - loss: 0.5264 - accuracy: 0.8046 - val_loss: 0.5713 - val_accuracy: 0.7902\n",
            "Epoch 18/100\n",
            "469/469 [==============================] - 2s 4ms/step - loss: 0.5234 - accuracy: 0.8054 - val_loss: 0.5599 - val_accuracy: 0.7956\n",
            "Epoch 19/100\n",
            "469/469 [==============================] - 2s 4ms/step - loss: 0.5200 - accuracy: 0.8060 - val_loss: 0.5603 - val_accuracy: 0.7955\n",
            "Epoch 20/100\n",
            "469/469 [==============================] - 2s 4ms/step - loss: 0.5169 - accuracy: 0.8072 - val_loss: 0.5564 - val_accuracy: 0.7927\n",
            "Epoch 21/100\n",
            "469/469 [==============================] - 2s 5ms/step - loss: 0.5128 - accuracy: 0.8092 - val_loss: 0.5675 - val_accuracy: 0.7899\n",
            "Epoch 22/100\n",
            "469/469 [==============================] - 2s 4ms/step - loss: 0.5106 - accuracy: 0.8096 - val_loss: 0.5528 - val_accuracy: 0.7954\n",
            "Epoch 23/100\n",
            "469/469 [==============================] - 2s 3ms/step - loss: 0.5073 - accuracy: 0.8108 - val_loss: 0.5538 - val_accuracy: 0.7949\n",
            "Epoch 24/100\n",
            "469/469 [==============================] - 2s 4ms/step - loss: 0.5048 - accuracy: 0.8118 - val_loss: 0.5518 - val_accuracy: 0.7944\n",
            "Epoch 25/100\n",
            "469/469 [==============================] - 2s 4ms/step - loss: 0.5023 - accuracy: 0.8127 - val_loss: 0.5497 - val_accuracy: 0.7963\n",
            "Epoch 26/100\n",
            "469/469 [==============================] - 2s 3ms/step - loss: 0.5007 - accuracy: 0.8135 - val_loss: 0.5471 - val_accuracy: 0.7993\n",
            "Epoch 27/100\n",
            "469/469 [==============================] - 2s 4ms/step - loss: 0.4979 - accuracy: 0.8127 - val_loss: 0.5598 - val_accuracy: 0.7919\n",
            "Epoch 28/100\n",
            "469/469 [==============================] - 2s 5ms/step - loss: 0.4956 - accuracy: 0.8149 - val_loss: 0.5534 - val_accuracy: 0.7915\n",
            "Epoch 29/100\n",
            "469/469 [==============================] - 2s 4ms/step - loss: 0.4933 - accuracy: 0.8149 - val_loss: 0.5500 - val_accuracy: 0.7992\n",
            "Epoch 30/100\n",
            "469/469 [==============================] - 2s 4ms/step - loss: 0.4917 - accuracy: 0.8163 - val_loss: 0.5390 - val_accuracy: 0.8018\n",
            "Epoch 31/100\n",
            "469/469 [==============================] - 2s 4ms/step - loss: 0.4899 - accuracy: 0.8163 - val_loss: 0.5469 - val_accuracy: 0.7991\n",
            "Epoch 32/100\n",
            "469/469 [==============================] - 2s 4ms/step - loss: 0.4872 - accuracy: 0.8178 - val_loss: 0.5438 - val_accuracy: 0.8020\n",
            "Epoch 33/100\n",
            "469/469 [==============================] - 2s 4ms/step - loss: 0.4857 - accuracy: 0.8179 - val_loss: 0.5392 - val_accuracy: 0.8024\n",
            "Epoch 34/100\n",
            "469/469 [==============================] - 2s 5ms/step - loss: 0.4832 - accuracy: 0.8180 - val_loss: 0.5410 - val_accuracy: 0.8023\n",
            "Epoch 35/100\n",
            "469/469 [==============================] - 2s 4ms/step - loss: 0.4818 - accuracy: 0.8196 - val_loss: 0.5350 - val_accuracy: 0.8048\n",
            "Epoch 36/100\n",
            "469/469 [==============================] - 2s 4ms/step - loss: 0.4796 - accuracy: 0.8192 - val_loss: 0.5366 - val_accuracy: 0.8032\n",
            "Epoch 37/100\n",
            "469/469 [==============================] - 2s 4ms/step - loss: 0.4785 - accuracy: 0.8190 - val_loss: 0.5390 - val_accuracy: 0.8007\n",
            "Epoch 38/100\n",
            "469/469 [==============================] - 2s 4ms/step - loss: 0.4773 - accuracy: 0.8209 - val_loss: 0.5413 - val_accuracy: 0.8002\n",
            "Epoch 39/100\n",
            "469/469 [==============================] - 2s 4ms/step - loss: 0.4751 - accuracy: 0.8220 - val_loss: 0.5375 - val_accuracy: 0.8031\n",
            "Epoch 40/100\n",
            "469/469 [==============================] - 2s 4ms/step - loss: 0.4737 - accuracy: 0.8221 - val_loss: 0.5518 - val_accuracy: 0.7978\n",
            "Epoch 41/100\n",
            "469/469 [==============================] - 2s 5ms/step - loss: 0.4718 - accuracy: 0.8220 - val_loss: 0.5480 - val_accuracy: 0.7992\n",
            "Epoch 42/100\n",
            "469/469 [==============================] - 2s 4ms/step - loss: 0.4710 - accuracy: 0.8227 - val_loss: 0.5332 - val_accuracy: 0.8050\n",
            "Epoch 43/100\n",
            "469/469 [==============================] - 2s 4ms/step - loss: 0.4687 - accuracy: 0.8232 - val_loss: 0.5354 - val_accuracy: 0.8059\n",
            "Epoch 44/100\n",
            "469/469 [==============================] - 2s 4ms/step - loss: 0.4679 - accuracy: 0.8239 - val_loss: 0.5442 - val_accuracy: 0.8003\n",
            "Epoch 45/100\n",
            "469/469 [==============================] - 2s 4ms/step - loss: 0.4663 - accuracy: 0.8245 - val_loss: 0.5479 - val_accuracy: 0.8016\n",
            "Epoch 46/100\n",
            "469/469 [==============================] - 2s 4ms/step - loss: 0.4651 - accuracy: 0.8236 - val_loss: 0.5417 - val_accuracy: 0.8008\n",
            "Epoch 47/100\n",
            "469/469 [==============================] - 2s 4ms/step - loss: 0.4636 - accuracy: 0.8253 - val_loss: 0.5379 - val_accuracy: 0.8026\n",
            "Epoch 48/100\n",
            "469/469 [==============================] - 2s 4ms/step - loss: 0.4625 - accuracy: 0.8252 - val_loss: 0.5395 - val_accuracy: 0.8050\n",
            "Epoch 49/100\n",
            "469/469 [==============================] - 2s 4ms/step - loss: 0.4607 - accuracy: 0.8253 - val_loss: 0.5371 - val_accuracy: 0.8024\n",
            "Epoch 50/100\n",
            "469/469 [==============================] - 2s 4ms/step - loss: 0.4596 - accuracy: 0.8268 - val_loss: 0.5386 - val_accuracy: 0.8017\n",
            "Epoch 51/100\n",
            "469/469 [==============================] - 2s 4ms/step - loss: 0.4577 - accuracy: 0.8271 - val_loss: 0.5453 - val_accuracy: 0.8015\n",
            "Epoch 52/100\n",
            "469/469 [==============================] - 2s 3ms/step - loss: 0.4562 - accuracy: 0.8280 - val_loss: 0.5416 - val_accuracy: 0.8016\n",
            "Epoch 53/100\n",
            "469/469 [==============================] - 2s 4ms/step - loss: 0.4550 - accuracy: 0.8283 - val_loss: 0.5346 - val_accuracy: 0.8047\n",
            "Epoch 54/100\n",
            "469/469 [==============================] - 2s 4ms/step - loss: 0.4544 - accuracy: 0.8294 - val_loss: 0.5380 - val_accuracy: 0.8041\n",
            "Epoch 55/100\n",
            "469/469 [==============================] - 2s 4ms/step - loss: 0.4520 - accuracy: 0.8293 - val_loss: 0.5495 - val_accuracy: 0.8016\n",
            "Epoch 56/100\n",
            "469/469 [==============================] - 2s 4ms/step - loss: 0.4521 - accuracy: 0.8300 - val_loss: 0.5358 - val_accuracy: 0.8068\n",
            "Epoch 57/100\n",
            "469/469 [==============================] - 2s 4ms/step - loss: 0.4503 - accuracy: 0.8296 - val_loss: 0.5346 - val_accuracy: 0.8075\n",
            "Epoch 58/100\n",
            "469/469 [==============================] - 2s 4ms/step - loss: 0.4493 - accuracy: 0.8297 - val_loss: 0.5341 - val_accuracy: 0.8032\n",
            "Epoch 59/100\n",
            "469/469 [==============================] - 2s 4ms/step - loss: 0.4486 - accuracy: 0.8298 - val_loss: 0.5428 - val_accuracy: 0.8015\n",
            "Epoch 60/100\n",
            "469/469 [==============================] - 2s 4ms/step - loss: 0.4463 - accuracy: 0.8308 - val_loss: 0.5352 - val_accuracy: 0.8049\n",
            "Epoch 61/100\n",
            "469/469 [==============================] - 2s 5ms/step - loss: 0.4458 - accuracy: 0.8314 - val_loss: 0.5333 - val_accuracy: 0.8042\n",
            "Epoch 62/100\n",
            "469/469 [==============================] - 2s 4ms/step - loss: 0.4448 - accuracy: 0.8325 - val_loss: 0.5637 - val_accuracy: 0.7924\n",
            "Epoch 63/100\n",
            "469/469 [==============================] - 2s 4ms/step - loss: 0.4443 - accuracy: 0.8312 - val_loss: 0.5364 - val_accuracy: 0.8042\n",
            "Epoch 64/100\n",
            "469/469 [==============================] - 2s 4ms/step - loss: 0.4427 - accuracy: 0.8325 - val_loss: 0.5385 - val_accuracy: 0.8059\n",
            "Epoch 65/100\n",
            "469/469 [==============================] - 2s 4ms/step - loss: 0.4418 - accuracy: 0.8323 - val_loss: 0.5346 - val_accuracy: 0.8046\n",
            "Epoch 66/100\n",
            "469/469 [==============================] - 2s 4ms/step - loss: 0.4410 - accuracy: 0.8333 - val_loss: 0.5413 - val_accuracy: 0.8043\n",
            "Epoch 67/100\n",
            "469/469 [==============================] - 2s 4ms/step - loss: 0.4397 - accuracy: 0.8339 - val_loss: 0.5333 - val_accuracy: 0.8064\n",
            "Epoch 68/100\n",
            "469/469 [==============================] - 2s 5ms/step - loss: 0.4387 - accuracy: 0.8332 - val_loss: 0.5444 - val_accuracy: 0.8029\n",
            "Epoch 69/100\n",
            "469/469 [==============================] - 2s 4ms/step - loss: 0.4375 - accuracy: 0.8339 - val_loss: 0.5457 - val_accuracy: 0.8032\n",
            "Epoch 70/100\n",
            "469/469 [==============================] - 2s 4ms/step - loss: 0.4368 - accuracy: 0.8349 - val_loss: 0.5547 - val_accuracy: 0.7969\n",
            "Epoch 71/100\n",
            "469/469 [==============================] - 2s 4ms/step - loss: 0.4357 - accuracy: 0.8354 - val_loss: 0.5446 - val_accuracy: 0.8026\n",
            "Epoch 72/100\n",
            "469/469 [==============================] - 2s 4ms/step - loss: 0.4353 - accuracy: 0.8342 - val_loss: 0.5404 - val_accuracy: 0.8019\n",
            "Epoch 73/100\n",
            "469/469 [==============================] - 2s 4ms/step - loss: 0.4341 - accuracy: 0.8348 - val_loss: 0.5440 - val_accuracy: 0.8052\n",
            "Epoch 74/100\n",
            "469/469 [==============================] - 2s 4ms/step - loss: 0.4335 - accuracy: 0.8355 - val_loss: 0.5339 - val_accuracy: 0.8055\n",
            "Epoch 75/100\n",
            "469/469 [==============================] - 2s 4ms/step - loss: 0.4317 - accuracy: 0.8361 - val_loss: 0.5456 - val_accuracy: 0.8068\n",
            "Epoch 76/100\n",
            "469/469 [==============================] - 2s 4ms/step - loss: 0.4320 - accuracy: 0.8354 - val_loss: 0.5414 - val_accuracy: 0.8070\n",
            "Epoch 77/100\n",
            "469/469 [==============================] - 2s 4ms/step - loss: 0.4302 - accuracy: 0.8362 - val_loss: 0.5435 - val_accuracy: 0.8053\n",
            "Epoch 78/100\n",
            "469/469 [==============================] - 2s 4ms/step - loss: 0.4303 - accuracy: 0.8361 - val_loss: 0.5416 - val_accuracy: 0.8092\n",
            "Epoch 79/100\n",
            "469/469 [==============================] - 2s 4ms/step - loss: 0.4285 - accuracy: 0.8381 - val_loss: 0.5424 - val_accuracy: 0.8007\n",
            "Epoch 80/100\n",
            "469/469 [==============================] - 2s 4ms/step - loss: 0.4286 - accuracy: 0.8377 - val_loss: 0.5637 - val_accuracy: 0.8012\n",
            "Epoch 81/100\n",
            "469/469 [==============================] - 2s 4ms/step - loss: 0.4275 - accuracy: 0.8372 - val_loss: 0.5759 - val_accuracy: 0.7929\n",
            "Epoch 82/100\n",
            "469/469 [==============================] - 2s 4ms/step - loss: 0.4269 - accuracy: 0.8385 - val_loss: 0.5476 - val_accuracy: 0.8046\n",
            "Epoch 83/100\n",
            "469/469 [==============================] - 2s 4ms/step - loss: 0.4258 - accuracy: 0.8378 - val_loss: 0.5379 - val_accuracy: 0.8085\n",
            "Epoch 84/100\n",
            "469/469 [==============================] - 2s 4ms/step - loss: 0.4262 - accuracy: 0.8383 - val_loss: 0.5430 - val_accuracy: 0.8079\n",
            "Epoch 85/100\n",
            "469/469 [==============================] - 2s 4ms/step - loss: 0.4247 - accuracy: 0.8384 - val_loss: 0.5574 - val_accuracy: 0.8013\n",
            "Epoch 86/100\n",
            "469/469 [==============================] - 2s 4ms/step - loss: 0.4232 - accuracy: 0.8395 - val_loss: 0.5391 - val_accuracy: 0.8080\n",
            "Epoch 87/100\n",
            "469/469 [==============================] - 2s 4ms/step - loss: 0.4232 - accuracy: 0.8385 - val_loss: 0.5506 - val_accuracy: 0.8071\n",
            "Epoch 88/100\n",
            "469/469 [==============================] - 2s 5ms/step - loss: 0.4226 - accuracy: 0.8393 - val_loss: 0.5504 - val_accuracy: 0.8073\n",
            "Epoch 89/100\n",
            "469/469 [==============================] - 2s 4ms/step - loss: 0.4215 - accuracy: 0.8397 - val_loss: 0.5437 - val_accuracy: 0.8083\n",
            "Epoch 90/100\n",
            "469/469 [==============================] - 2s 4ms/step - loss: 0.4201 - accuracy: 0.8400 - val_loss: 0.5462 - val_accuracy: 0.8066\n",
            "Epoch 91/100\n",
            "469/469 [==============================] - 2s 4ms/step - loss: 0.4198 - accuracy: 0.8401 - val_loss: 0.5591 - val_accuracy: 0.8044\n",
            "Epoch 92/100\n",
            "469/469 [==============================] - 2s 4ms/step - loss: 0.4194 - accuracy: 0.8402 - val_loss: 0.5537 - val_accuracy: 0.8065\n",
            "Epoch 93/100\n",
            "469/469 [==============================] - 2s 4ms/step - loss: 0.4183 - accuracy: 0.8415 - val_loss: 0.5527 - val_accuracy: 0.8047\n",
            "Epoch 94/100\n",
            "469/469 [==============================] - 2s 4ms/step - loss: 0.4179 - accuracy: 0.8414 - val_loss: 0.5525 - val_accuracy: 0.8046\n",
            "Epoch 95/100\n",
            "469/469 [==============================] - 2s 5ms/step - loss: 0.4165 - accuracy: 0.8425 - val_loss: 0.5535 - val_accuracy: 0.8034\n",
            "Epoch 96/100\n",
            "469/469 [==============================] - 2s 4ms/step - loss: 0.4166 - accuracy: 0.8415 - val_loss: 0.5545 - val_accuracy: 0.8016\n",
            "Epoch 97/100\n",
            "469/469 [==============================] - 2s 4ms/step - loss: 0.4163 - accuracy: 0.8425 - val_loss: 0.5514 - val_accuracy: 0.8023\n",
            "Epoch 98/100\n",
            "469/469 [==============================] - 2s 4ms/step - loss: 0.4161 - accuracy: 0.8421 - val_loss: 0.5492 - val_accuracy: 0.8064\n",
            "Epoch 99/100\n",
            "469/469 [==============================] - 2s 4ms/step - loss: 0.4145 - accuracy: 0.8419 - val_loss: 0.5458 - val_accuracy: 0.8077\n",
            "Epoch 100/100\n",
            "469/469 [==============================] - 2s 4ms/step - loss: 0.4136 - accuracy: 0.8436 - val_loss: 0.5600 - val_accuracy: 0.8016\n"
          ]
        }
      ]
    },
    {
      "cell_type": "code",
      "source": [
        "plt.plot(history.history['accuracy'], label='Train')\n",
        "plt.plot(history.history['val_accuracy'], label='Test')\n",
        "plt.legend()\n",
        "plt.show()"
      ],
      "metadata": {
        "colab": {
          "base_uri": "https://localhost:8080/",
          "height": 431
        },
        "id": "Zqy50-si2lKJ",
        "outputId": "231b620b-215a-47fa-d9f6-f588154d25d8"
      },
      "execution_count": null,
      "outputs": [
        {
          "output_type": "display_data",
          "data": {
            "text/plain": [
              "<Figure size 640x480 with 1 Axes>"
            ],
            "image/png": "[encoded data removed]"
          },
          "metadata": {}
        }
      ]
    },
    {
      "cell_type": "code",
      "source": [],
      "metadata": {
        "id": "REuZBkCC5SXi"
      },
      "execution_count": null,
      "outputs": []
    }
  ],
  "metadata": {
    "colab": {
      "toc_visible": true,
      "provenance": [],
      "gpuType": "T4",
      "include_colab_link": true
    },
    "kernelspec": {
      "display_name": "Python 3",
      "name": "python3"
    },
    "accelerator": "GPU"
  },
  "nbformat": 4,
  "nbformat_minor": 0
}