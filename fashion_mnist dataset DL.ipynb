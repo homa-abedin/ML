{
  "cells": [
    {
      "cell_type": "markdown",
      "metadata": {
        "id": "view-in-github",
        "colab_type": "text"
      },
      "source": [
        "<a href=\"https://colab.research.google.com/github/homa-abedin/ML/blob/master/fashion_mnist%20dataset%20DL.ipynb\" target=\"_parent\"><img src=\"https://colab.research.google.com/assets/colab-badge.svg\" alt=\"Open In Colab\"/></a>"
      ]
    },
    {
      "cell_type": "code",
      "source": [
        "from tensorflow import keras\n",
        "from keras.models import Sequential\n",
        "from keras.layers import Dense, Dropout\n",
        "import numpy as np\n",
        "import matplotlib.pyplot as plt\n",
        "import cv2"
      ],
      "metadata": {
        "id": "p3PmZjcCfi5f"
      },
      "execution_count": 34,
      "outputs": []
    },
    {
      "cell_type": "code",
      "source": [
        "fashion_mnist = keras.datasets.fashion_mnist\n",
        "(train_images, train_labels), (test_images, test_labels) = fashion_mnist.load_data()"
      ],
      "metadata": {
        "id": "wGUGaia6fQRB"
      },
      "execution_count": 13,
      "outputs": []
    },
    {
      "cell_type": "code",
      "source": [
        "train_labels.shape"
      ],
      "metadata": {
        "colab": {
          "base_uri": "https://localhost:8080/"
        },
        "id": "wUr91VhCfpBe",
        "outputId": "efd3c3e6-5f1c-4edd-8e6a-b0f06c14a5bf"
      },
      "execution_count": 21,
      "outputs": [
        {
          "output_type": "execute_result",
          "data": {
            "text/plain": [
              "(60000,)"
            ]
          },
          "metadata": {},
          "execution_count": 21
        }
      ]
    },
    {
      "cell_type": "code",
      "source": [
        "np.unique(train_labels)"
      ],
      "metadata": {
        "colab": {
          "base_uri": "https://localhost:8080/"
        },
        "id": "j17nsafhne4x",
        "outputId": "9b6eaf9b-215c-446e-ed9f-92a7ef212db4"
      },
      "execution_count": 7,
      "outputs": [
        {
          "output_type": "execute_result",
          "data": {
            "text/plain": [
              "array([0, 1, 2, 3, 4, 5, 6, 7, 8, 9], dtype=uint8)"
            ]
          },
          "metadata": {},
          "execution_count": 7
        }
      ]
    },
    {
      "cell_type": "code",
      "source": [
        "train_images.shape"
      ],
      "metadata": {
        "colab": {
          "base_uri": "https://localhost:8080/"
        },
        "id": "ntZLYhrwlrTd",
        "outputId": "4f819394-d9da-4871-f5ef-3e3a1faa7636"
      },
      "execution_count": 25,
      "outputs": [
        {
          "output_type": "execute_result",
          "data": {
            "text/plain": [
              "(60000, 28, 28)"
            ]
          },
          "metadata": {},
          "execution_count": 25
        }
      ]
    },
    {
      "cell_type": "code",
      "source": [
        "plt.imshow(train_images[5])\n",
        "plt.show()\n",
        "print(train_labels[5])"
      ],
      "metadata": {
        "colab": {
          "base_uri": "https://localhost:8080/",
          "height": 447
        },
        "id": "1sqI3tEZijc_",
        "outputId": "aa520001-50ee-4335-a768-4a440e42ff5d"
      },
      "execution_count": 8,
      "outputs": [
        {
          "output_type": "display_data",
          "data": {
            "text/plain": [
              "<Figure size 640x480 with 1 Axes>"
            ],
            "image/png": "[encoded data removed]"
          },
          "metadata": {}
        },
        {
          "output_type": "stream",
          "name": "stdout",
          "text": [
            "2\n"
          ]
        }
      ]
    },
    {
      "cell_type": "code",
      "source": [
        "X_train_5by5 = [cv2.resize(img, dsize=(5, 5)) for img in train_images]\n",
        "X_test_5by_5 = [cv2.resize(img, dsize=(5, 5)) for img in test_images]"
      ],
      "metadata": {
        "id": "Kf__zCZ7ywDX"
      },
      "execution_count": 15,
      "outputs": []
    },
    {
      "cell_type": "code",
      "source": [
        "X_train = np.reshape(X_train_5by5, [-1,5**2])\n",
        "X_test = np.reshape(X_test_5by_5, [-1,5**2])"
      ],
      "metadata": {
        "id": "n7lAi6eL0j-7"
      },
      "execution_count": 16,
      "outputs": []
    },
    {
      "cell_type": "code",
      "source": [
        "X_train.shape"
      ],
      "metadata": {
        "colab": {
          "base_uri": "https://localhost:8080/"
        },
        "id": "SiUxRSco0m_T",
        "outputId": "262ef845-037d-41bb-a7d8-3126f919a66b"
      },
      "execution_count": 20,
      "outputs": [
        {
          "output_type": "execute_result",
          "data": {
            "text/plain": [
              "(60000, 25)"
            ]
          },
          "metadata": {},
          "execution_count": 20
        }
      ]
    },
    {
      "cell_type": "code",
      "source": [
        "x_train = X_train.astype('float32')\n",
        "x_test = X_test.astype('float32')\n",
        "x_train /= 255\n",
        "x_test /= 255"
      ],
      "metadata": {
        "id": "lfaIg-gx0qCi"
      },
      "execution_count": 21,
      "outputs": []
    },
    {
      "cell_type": "code",
      "source": [
        "y_train = keras.utils.to_categorical(train_labels, num_classes=X_train.shape[-1])\n",
        "y_test = keras.utils.to_categorical(test_labels, num_classes=X_test.shape[-1])"
      ],
      "metadata": {
        "id": "D4jmKDNK1AxH"
      },
      "execution_count": 22,
      "outputs": []
    },
    {
      "cell_type": "code",
      "source": [
        "model = Sequential()\n",
        "model.add(Dense(60, activation='relu', input_dim=25))\n",
        "model.add(Dropout(0.2))\n",
        "model.add(Dense(100, activation='relu'))\n",
        "model.add(Dropout(0.5))\n",
        "model.add(Dense(25, activation='softmax'))"
      ],
      "metadata": {
        "id": "x2QpfTK92Idl"
      },
      "execution_count": 36,
      "outputs": []
    },
    {
      "cell_type": "code",
      "source": [
        "model.compile(loss='categorical_crossentropy',\n",
        "              optimizer='rmsprop',\n",
        "              metrics=['accuracy'])"
      ],
      "metadata": {
        "id": "E5xcfW502bPA"
      },
      "execution_count": 37,
      "outputs": []
    },
    {
      "cell_type": "code",
      "source": [
        "history = model.fit(x_train, y_train,\n",
        "          epochs=100,\n",
        "          batch_size=128, validation_data=(x_test, y_test))"
      ],
      "metadata": {
        "colab": {
          "base_uri": "https://localhost:8080/"
        },
        "id": "jnYa5zET2eCf",
        "outputId": "98b77a78-74ab-49e3-9165-43cbb8649eac"
      },
      "execution_count": 38,
      "outputs": [
        {
          "output_type": "stream",
          "name": "stdout",
          "text": [
            "Epoch 1/100\n",
            "469/469 [==============================] - 4s 4ms/step - loss: 1.3194 - accuracy: 0.5359 - val_loss: 0.8132 - val_accuracy: 0.7131\n",
            "Epoch 2/100\n",
            "469/469 [==============================] - 2s 4ms/step - loss: 0.8675 - accuracy: 0.6844 - val_loss: 0.7366 - val_accuracy: 0.7297\n",
            "Epoch 3/100\n",
            "469/469 [==============================] - 3s 6ms/step - loss: 0.7994 - accuracy: 0.7124 - val_loss: 0.7101 - val_accuracy: 0.7383\n",
            "Epoch 4/100\n",
            "469/469 [==============================] - 2s 4ms/step - loss: 0.7690 - accuracy: 0.7226 - val_loss: 0.6872 - val_accuracy: 0.7459\n",
            "Epoch 5/100\n",
            "469/469 [==============================] - 2s 4ms/step - loss: 0.7469 - accuracy: 0.7312 - val_loss: 0.6732 - val_accuracy: 0.7505\n",
            "Epoch 6/100\n",
            "469/469 [==============================] - 2s 4ms/step - loss: 0.7298 - accuracy: 0.7376 - val_loss: 0.6632 - val_accuracy: 0.7539\n",
            "Epoch 7/100\n",
            "469/469 [==============================] - 2s 4ms/step - loss: 0.7167 - accuracy: 0.7436 - val_loss: 0.6539 - val_accuracy: 0.7609\n",
            "Epoch 8/100\n",
            "469/469 [==============================] - 2s 4ms/step - loss: 0.7052 - accuracy: 0.7486 - val_loss: 0.6488 - val_accuracy: 0.7629\n",
            "Epoch 9/100\n",
            "469/469 [==============================] - 2s 5ms/step - loss: 0.6990 - accuracy: 0.7493 - val_loss: 0.6446 - val_accuracy: 0.7651\n",
            "Epoch 10/100\n",
            "469/469 [==============================] - 2s 5ms/step - loss: 0.6893 - accuracy: 0.7534 - val_loss: 0.6340 - val_accuracy: 0.7677\n",
            "Epoch 11/100\n",
            "469/469 [==============================] - 2s 4ms/step - loss: 0.6853 - accuracy: 0.7556 - val_loss: 0.6312 - val_accuracy: 0.7683\n",
            "Epoch 12/100\n",
            "469/469 [==============================] - 2s 4ms/step - loss: 0.6792 - accuracy: 0.7567 - val_loss: 0.6270 - val_accuracy: 0.7713\n",
            "Epoch 13/100\n",
            "469/469 [==============================] - 2s 4ms/step - loss: 0.6742 - accuracy: 0.7615 - val_loss: 0.6236 - val_accuracy: 0.7700\n",
            "Epoch 14/100\n",
            "469/469 [==============================] - 2s 4ms/step - loss: 0.6697 - accuracy: 0.7617 - val_loss: 0.6180 - val_accuracy: 0.7755\n",
            "Epoch 15/100\n",
            "469/469 [==============================] - 2s 4ms/step - loss: 0.6639 - accuracy: 0.7637 - val_loss: 0.6145 - val_accuracy: 0.7766\n",
            "Epoch 16/100\n",
            "469/469 [==============================] - 2s 5ms/step - loss: 0.6579 - accuracy: 0.7643 - val_loss: 0.6139 - val_accuracy: 0.7770\n",
            "Epoch 17/100\n",
            "469/469 [==============================] - 2s 5ms/step - loss: 0.6571 - accuracy: 0.7650 - val_loss: 0.6091 - val_accuracy: 0.7792\n",
            "Epoch 18/100\n",
            "469/469 [==============================] - 2s 4ms/step - loss: 0.6579 - accuracy: 0.7662 - val_loss: 0.6092 - val_accuracy: 0.7790\n",
            "Epoch 19/100\n",
            "469/469 [==============================] - 2s 4ms/step - loss: 0.6499 - accuracy: 0.7688 - val_loss: 0.6080 - val_accuracy: 0.7773\n",
            "Epoch 20/100\n",
            "469/469 [==============================] - 2s 4ms/step - loss: 0.6478 - accuracy: 0.7691 - val_loss: 0.6022 - val_accuracy: 0.7811\n",
            "Epoch 21/100\n",
            "469/469 [==============================] - 2s 4ms/step - loss: 0.6472 - accuracy: 0.7694 - val_loss: 0.6070 - val_accuracy: 0.7800\n",
            "Epoch 22/100\n",
            "469/469 [==============================] - 2s 4ms/step - loss: 0.6449 - accuracy: 0.7681 - val_loss: 0.6006 - val_accuracy: 0.7831\n",
            "Epoch 23/100\n",
            "469/469 [==============================] - 3s 5ms/step - loss: 0.6438 - accuracy: 0.7704 - val_loss: 0.5993 - val_accuracy: 0.7827\n",
            "Epoch 24/100\n",
            "469/469 [==============================] - 2s 5ms/step - loss: 0.6429 - accuracy: 0.7704 - val_loss: 0.5961 - val_accuracy: 0.7820\n",
            "Epoch 25/100\n",
            "469/469 [==============================] - 2s 4ms/step - loss: 0.6399 - accuracy: 0.7711 - val_loss: 0.6017 - val_accuracy: 0.7849\n",
            "Epoch 26/100\n",
            "469/469 [==============================] - 2s 4ms/step - loss: 0.6410 - accuracy: 0.7713 - val_loss: 0.6000 - val_accuracy: 0.7831\n",
            "Epoch 27/100\n",
            "469/469 [==============================] - 2s 4ms/step - loss: 0.6377 - accuracy: 0.7731 - val_loss: 0.5925 - val_accuracy: 0.7827\n",
            "Epoch 28/100\n",
            "469/469 [==============================] - 2s 4ms/step - loss: 0.6353 - accuracy: 0.7743 - val_loss: 0.5934 - val_accuracy: 0.7851\n",
            "Epoch 29/100\n",
            "469/469 [==============================] - 2s 5ms/step - loss: 0.6362 - accuracy: 0.7732 - val_loss: 0.5929 - val_accuracy: 0.7837\n",
            "Epoch 30/100\n",
            "469/469 [==============================] - 3s 6ms/step - loss: 0.6375 - accuracy: 0.7740 - val_loss: 0.5906 - val_accuracy: 0.7864\n",
            "Epoch 31/100\n",
            "469/469 [==============================] - 2s 4ms/step - loss: 0.6362 - accuracy: 0.7752 - val_loss: 0.5891 - val_accuracy: 0.7853\n",
            "Epoch 32/100\n",
            "469/469 [==============================] - 2s 5ms/step - loss: 0.6317 - accuracy: 0.7744 - val_loss: 0.5914 - val_accuracy: 0.7858\n",
            "Epoch 33/100\n",
            "469/469 [==============================] - 2s 4ms/step - loss: 0.6330 - accuracy: 0.7747 - val_loss: 0.5902 - val_accuracy: 0.7865\n",
            "Epoch 34/100\n",
            "469/469 [==============================] - 3s 6ms/step - loss: 0.6296 - accuracy: 0.7750 - val_loss: 0.5870 - val_accuracy: 0.7869\n",
            "Epoch 35/100\n",
            "469/469 [==============================] - 3s 6ms/step - loss: 0.6312 - accuracy: 0.7733 - val_loss: 0.5890 - val_accuracy: 0.7886\n",
            "Epoch 36/100\n",
            "469/469 [==============================] - 3s 6ms/step - loss: 0.6279 - accuracy: 0.7754 - val_loss: 0.5915 - val_accuracy: 0.7866\n",
            "Epoch 37/100\n",
            "469/469 [==============================] - 2s 4ms/step - loss: 0.6266 - accuracy: 0.7759 - val_loss: 0.5883 - val_accuracy: 0.7862\n",
            "Epoch 38/100\n",
            "469/469 [==============================] - 2s 4ms/step - loss: 0.6257 - accuracy: 0.7758 - val_loss: 0.5900 - val_accuracy: 0.7823\n",
            "Epoch 39/100\n",
            "469/469 [==============================] - 2s 4ms/step - loss: 0.6279 - accuracy: 0.7747 - val_loss: 0.5862 - val_accuracy: 0.7871\n",
            "Epoch 40/100\n",
            "469/469 [==============================] - 2s 4ms/step - loss: 0.6316 - accuracy: 0.7749 - val_loss: 0.5860 - val_accuracy: 0.7855\n",
            "Epoch 41/100\n",
            "469/469 [==============================] - 2s 4ms/step - loss: 0.6271 - accuracy: 0.7769 - val_loss: 0.5908 - val_accuracy: 0.7844\n",
            "Epoch 42/100\n",
            "469/469 [==============================] - 2s 5ms/step - loss: 0.6283 - accuracy: 0.7764 - val_loss: 0.5895 - val_accuracy: 0.7865\n",
            "Epoch 43/100\n",
            "469/469 [==============================] - 2s 5ms/step - loss: 0.6257 - accuracy: 0.7767 - val_loss: 0.5848 - val_accuracy: 0.7862\n",
            "Epoch 44/100\n",
            "469/469 [==============================] - 2s 4ms/step - loss: 0.6216 - accuracy: 0.7771 - val_loss: 0.5849 - val_accuracy: 0.7895\n",
            "Epoch 45/100\n",
            "469/469 [==============================] - 2s 4ms/step - loss: 0.6199 - accuracy: 0.7772 - val_loss: 0.5856 - val_accuracy: 0.7883\n",
            "Epoch 46/100\n",
            "469/469 [==============================] - 2s 4ms/step - loss: 0.6209 - accuracy: 0.7779 - val_loss: 0.5802 - val_accuracy: 0.7899\n",
            "Epoch 47/100\n",
            "469/469 [==============================] - 2s 4ms/step - loss: 0.6244 - accuracy: 0.7766 - val_loss: 0.5819 - val_accuracy: 0.7902\n",
            "Epoch 48/100\n",
            "469/469 [==============================] - 2s 4ms/step - loss: 0.6231 - accuracy: 0.7775 - val_loss: 0.5828 - val_accuracy: 0.7891\n",
            "Epoch 49/100\n",
            "469/469 [==============================] - 3s 5ms/step - loss: 0.6240 - accuracy: 0.7772 - val_loss: 0.5838 - val_accuracy: 0.7887\n",
            "Epoch 50/100\n",
            "469/469 [==============================] - 2s 5ms/step - loss: 0.6227 - accuracy: 0.7770 - val_loss: 0.5857 - val_accuracy: 0.7896\n",
            "Epoch 51/100\n",
            "469/469 [==============================] - 2s 5ms/step - loss: 0.6220 - accuracy: 0.7781 - val_loss: 0.5831 - val_accuracy: 0.7882\n",
            "Epoch 52/100\n",
            "469/469 [==============================] - 2s 5ms/step - loss: 0.6221 - accuracy: 0.7753 - val_loss: 0.5811 - val_accuracy: 0.7879\n",
            "Epoch 53/100\n",
            "469/469 [==============================] - 2s 4ms/step - loss: 0.6217 - accuracy: 0.7789 - val_loss: 0.5812 - val_accuracy: 0.7890\n",
            "Epoch 54/100\n",
            "469/469 [==============================] - 2s 4ms/step - loss: 0.6195 - accuracy: 0.7782 - val_loss: 0.5843 - val_accuracy: 0.7896\n",
            "Epoch 55/100\n",
            "469/469 [==============================] - 3s 5ms/step - loss: 0.6217 - accuracy: 0.7773 - val_loss: 0.5841 - val_accuracy: 0.7892\n",
            "Epoch 56/100\n",
            "469/469 [==============================] - 2s 5ms/step - loss: 0.6225 - accuracy: 0.7768 - val_loss: 0.5814 - val_accuracy: 0.7911\n",
            "Epoch 57/100\n",
            "469/469 [==============================] - 2s 4ms/step - loss: 0.6227 - accuracy: 0.7775 - val_loss: 0.5846 - val_accuracy: 0.7897\n",
            "Epoch 58/100\n",
            "469/469 [==============================] - 2s 4ms/step - loss: 0.6193 - accuracy: 0.7786 - val_loss: 0.5832 - val_accuracy: 0.7895\n",
            "Epoch 59/100\n",
            "469/469 [==============================] - 2s 4ms/step - loss: 0.6228 - accuracy: 0.7771 - val_loss: 0.5813 - val_accuracy: 0.7911\n",
            "Epoch 60/100\n",
            "469/469 [==============================] - 2s 4ms/step - loss: 0.6200 - accuracy: 0.7788 - val_loss: 0.5851 - val_accuracy: 0.7887\n",
            "Epoch 61/100\n",
            "469/469 [==============================] - 2s 5ms/step - loss: 0.6195 - accuracy: 0.7791 - val_loss: 0.5817 - val_accuracy: 0.7891\n",
            "Epoch 62/100\n",
            "469/469 [==============================] - 2s 5ms/step - loss: 0.6232 - accuracy: 0.7777 - val_loss: 0.5784 - val_accuracy: 0.7907\n",
            "Epoch 63/100\n",
            "469/469 [==============================] - 2s 4ms/step - loss: 0.6195 - accuracy: 0.7795 - val_loss: 0.5762 - val_accuracy: 0.7913\n",
            "Epoch 64/100\n",
            "469/469 [==============================] - 2s 4ms/step - loss: 0.6178 - accuracy: 0.7793 - val_loss: 0.5808 - val_accuracy: 0.7906\n",
            "Epoch 65/100\n",
            "469/469 [==============================] - 2s 4ms/step - loss: 0.6197 - accuracy: 0.7786 - val_loss: 0.5790 - val_accuracy: 0.7884\n",
            "Epoch 66/100\n",
            "469/469 [==============================] - 2s 4ms/step - loss: 0.6189 - accuracy: 0.7794 - val_loss: 0.5769 - val_accuracy: 0.7893\n",
            "Epoch 67/100\n",
            "469/469 [==============================] - 2s 4ms/step - loss: 0.6199 - accuracy: 0.7768 - val_loss: 0.5787 - val_accuracy: 0.7894\n",
            "Epoch 68/100\n",
            "469/469 [==============================] - 2s 5ms/step - loss: 0.6191 - accuracy: 0.7781 - val_loss: 0.5782 - val_accuracy: 0.7881\n",
            "Epoch 69/100\n",
            "469/469 [==============================] - 2s 5ms/step - loss: 0.6184 - accuracy: 0.7784 - val_loss: 0.5794 - val_accuracy: 0.7877\n",
            "Epoch 70/100\n",
            "469/469 [==============================] - 2s 4ms/step - loss: 0.6182 - accuracy: 0.7803 - val_loss: 0.5784 - val_accuracy: 0.7913\n",
            "Epoch 71/100\n",
            "469/469 [==============================] - 2s 4ms/step - loss: 0.6195 - accuracy: 0.7798 - val_loss: 0.5746 - val_accuracy: 0.7912\n",
            "Epoch 72/100\n",
            "469/469 [==============================] - 2s 4ms/step - loss: 0.6210 - accuracy: 0.7803 - val_loss: 0.5765 - val_accuracy: 0.7905\n",
            "Epoch 73/100\n",
            "469/469 [==============================] - 2s 4ms/step - loss: 0.6158 - accuracy: 0.7803 - val_loss: 0.5787 - val_accuracy: 0.7912\n",
            "Epoch 74/100\n",
            "469/469 [==============================] - 2s 4ms/step - loss: 0.6188 - accuracy: 0.7801 - val_loss: 0.5810 - val_accuracy: 0.7907\n",
            "Epoch 75/100\n",
            "469/469 [==============================] - 3s 5ms/step - loss: 0.6186 - accuracy: 0.7804 - val_loss: 0.5763 - val_accuracy: 0.7905\n",
            "Epoch 76/100\n",
            "469/469 [==============================] - 2s 5ms/step - loss: 0.6173 - accuracy: 0.7806 - val_loss: 0.5789 - val_accuracy: 0.7888\n",
            "Epoch 77/100\n",
            "469/469 [==============================] - 4s 8ms/step - loss: 0.6164 - accuracy: 0.7799 - val_loss: 0.5740 - val_accuracy: 0.7910\n",
            "Epoch 78/100\n",
            "469/469 [==============================] - 2s 5ms/step - loss: 0.6174 - accuracy: 0.7804 - val_loss: 0.5792 - val_accuracy: 0.7903\n",
            "Epoch 79/100\n",
            "469/469 [==============================] - 2s 4ms/step - loss: 0.6188 - accuracy: 0.7808 - val_loss: 0.5789 - val_accuracy: 0.7921\n",
            "Epoch 80/100\n",
            "469/469 [==============================] - 2s 5ms/step - loss: 0.6181 - accuracy: 0.7793 - val_loss: 0.5781 - val_accuracy: 0.7930\n",
            "Epoch 81/100\n",
            "469/469 [==============================] - 2s 5ms/step - loss: 0.6174 - accuracy: 0.7801 - val_loss: 0.5752 - val_accuracy: 0.7893\n",
            "Epoch 82/100\n",
            "469/469 [==============================] - 2s 4ms/step - loss: 0.6188 - accuracy: 0.7780 - val_loss: 0.5784 - val_accuracy: 0.7923\n",
            "Epoch 83/100\n",
            "469/469 [==============================] - 2s 4ms/step - loss: 0.6141 - accuracy: 0.7814 - val_loss: 0.5775 - val_accuracy: 0.7898\n",
            "Epoch 84/100\n",
            "469/469 [==============================] - 2s 4ms/step - loss: 0.6150 - accuracy: 0.7797 - val_loss: 0.5724 - val_accuracy: 0.7914\n",
            "Epoch 85/100\n",
            "469/469 [==============================] - 2s 4ms/step - loss: 0.6187 - accuracy: 0.7790 - val_loss: 0.5740 - val_accuracy: 0.7909\n",
            "Epoch 86/100\n",
            "469/469 [==============================] - 2s 4ms/step - loss: 0.6158 - accuracy: 0.7799 - val_loss: 0.5735 - val_accuracy: 0.7919\n",
            "Epoch 87/100\n",
            "469/469 [==============================] - 2s 5ms/step - loss: 0.6147 - accuracy: 0.7814 - val_loss: 0.5754 - val_accuracy: 0.7940\n",
            "Epoch 88/100\n",
            "469/469 [==============================] - 2s 5ms/step - loss: 0.6159 - accuracy: 0.7799 - val_loss: 0.5741 - val_accuracy: 0.7891\n",
            "Epoch 89/100\n",
            "469/469 [==============================] - 2s 4ms/step - loss: 0.6180 - accuracy: 0.7801 - val_loss: 0.5762 - val_accuracy: 0.7919\n",
            "Epoch 90/100\n",
            "469/469 [==============================] - 2s 4ms/step - loss: 0.6173 - accuracy: 0.7798 - val_loss: 0.5751 - val_accuracy: 0.7924\n",
            "Epoch 91/100\n",
            "469/469 [==============================] - 2s 4ms/step - loss: 0.6144 - accuracy: 0.7800 - val_loss: 0.5763 - val_accuracy: 0.7915\n",
            "Epoch 92/100\n",
            "469/469 [==============================] - 2s 4ms/step - loss: 0.6167 - accuracy: 0.7795 - val_loss: 0.5731 - val_accuracy: 0.7939\n",
            "Epoch 93/100\n",
            "469/469 [==============================] - 2s 4ms/step - loss: 0.6175 - accuracy: 0.7799 - val_loss: 0.5768 - val_accuracy: 0.7906\n",
            "Epoch 94/100\n",
            "469/469 [==============================] - 2s 5ms/step - loss: 0.6153 - accuracy: 0.7787 - val_loss: 0.5716 - val_accuracy: 0.7908\n",
            "Epoch 95/100\n",
            "469/469 [==============================] - 3s 5ms/step - loss: 0.6154 - accuracy: 0.7779 - val_loss: 0.5794 - val_accuracy: 0.7918\n",
            "Epoch 96/100\n",
            "469/469 [==============================] - 2s 4ms/step - loss: 0.6150 - accuracy: 0.7810 - val_loss: 0.5751 - val_accuracy: 0.7933\n",
            "Epoch 97/100\n",
            "469/469 [==============================] - 2s 4ms/step - loss: 0.6172 - accuracy: 0.7794 - val_loss: 0.5723 - val_accuracy: 0.7913\n",
            "Epoch 98/100\n",
            "469/469 [==============================] - 2s 4ms/step - loss: 0.6184 - accuracy: 0.7797 - val_loss: 0.5745 - val_accuracy: 0.7935\n",
            "Epoch 99/100\n",
            "469/469 [==============================] - 2s 4ms/step - loss: 0.6114 - accuracy: 0.7816 - val_loss: 0.5705 - val_accuracy: 0.7930\n",
            "Epoch 100/100\n",
            "469/469 [==============================] - 2s 4ms/step - loss: 0.6145 - accuracy: 0.7804 - val_loss: 0.5781 - val_accuracy: 0.7902\n"
          ]
        }
      ]
    },
    {
      "cell_type": "code",
      "source": [
        "plt.plot(history.history['accuracy'], label='Train')\n",
        "plt.plot(history.history['val_accuracy'], label='Test')\n",
        "plt.legend()\n",
        "plt.show()"
      ],
      "metadata": {
        "colab": {
          "base_uri": "https://localhost:8080/",
          "height": 430
        },
        "id": "Zqy50-si2lKJ",
        "outputId": "d1422004-c520-4191-cf5b-e63aa8cd8952"
      },
      "execution_count": 40,
      "outputs": [
        {
          "output_type": "display_data",
          "data": {
            "text/plain": [
              "<Figure size 640x480 with 1 Axes>"
            ],
            "image/png": "[encoded data removed]"
          },
          "metadata": {}
        }
      ]
    },
    {
      "cell_type": "code",
      "source": [],
      "metadata": {
        "id": "REuZBkCC5SXi"
      },
      "execution_count": null,
      "outputs": []
    }
  ],
  "metadata": {
    "colab": {
      "name": "Welcome To Colaboratory",
      "provenance": [],
      "gpuType": "T4",
      "include_colab_link": true
    },
    "kernelspec": {
      "display_name": "Python 3",
      "name": "python3"
    },
    "accelerator": "GPU"
  },
  "nbformat": 4,
  "nbformat_minor": 0
}